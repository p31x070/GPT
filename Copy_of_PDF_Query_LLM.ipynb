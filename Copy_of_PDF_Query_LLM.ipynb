{
  "nbformat": 4,
  "nbformat_minor": 0,
  "metadata": {
    "colab": {
      "provenance": [],
      "include_colab_link": true
    },
    "kernelspec": {
      "name": "python3",
      "display_name": "Python 3"
    },
    "language_info": {
      "name": "python"
    },
    "gpuClass": "standard"
  },
  "cells": [
    {
      "cell_type": "markdown",
      "metadata": {
        "id": "view-in-github",
        "colab_type": "text"
      },
      "source": [
        "<a href=\"https://colab.research.google.com/github/p31x070/GPT/blob/main/Copy_of_PDF_Query_LLM.ipynb\" target=\"_parent\"><img src=\"https://colab.research.google.com/assets/colab-badge.svg\" alt=\"Open In Colab\"/></a>"
      ]
    },
    {
      "cell_type": "markdown",
      "source": [
        "https://www.youtube.com/watch?v=TLf90ipMzfE"
      ],
      "metadata": {
        "id": "m4mapJKnK6ob"
      }
    },
    {
      "cell_type": "code",
      "execution_count": null,
      "metadata": {
        "id": "xlorSbccWEDa"
      },
      "outputs": [],
      "source": [
        "!pip install langchain\n",
        "!pip install openai\n",
        "!pip install PyPDF2\n",
        "!pip install faiss-cpu\n",
        "!pip install tiktoken"
      ]
    },
    {
      "cell_type": "code",
      "source": [
        "from PyPDF2 import PdfReader\n",
        "from langchain.embeddings.openai import OpenAIEmbeddings\n",
        "from langchain.text_splitter import CharacterTextSplitter\n",
        "from langchain.vectorstores import ElasticVectorSearch, Pinecone, Weaviate, FAISS"
      ],
      "metadata": {
        "id": "nq0vKGFeW1KD"
      },
      "execution_count": 2,
      "outputs": []
    },
    {
      "cell_type": "code",
      "source": [
        "# Get your API keys from openai, you will need to create an account. \n",
        "# Here is the link to get the keys: https://platform.openai.com/account/billing/overview\n",
        "import os\n",
        "os.environ[\"OPENAI_API_KEY\"] = \"...\""
      ],
      "metadata": {
        "id": "yKaKB_GjWKjL"
      },
      "execution_count": 3,
      "outputs": []
    },
    {
      "cell_type": "code",
      "source": [
        "# connect your Google Drive\n",
        "from google.colab import drive\n",
        "drive.mount('/content/gdrive', force_remount=True)\n",
        "root_dir = \"/content/gdrive/My Drive/\""
      ],
      "metadata": {
        "colab": {
          "base_uri": "https://localhost:8080/"
        },
        "id": "DuSRy_lbWfE3",
        "outputId": "53268e3d-b9bd-462b-e7d7-77e6a6e69a31"
      },
      "execution_count": 4,
      "outputs": [
        {
          "output_type": "stream",
          "name": "stdout",
          "text": [
            "Mounted at /content/gdrive\n"
          ]
        }
      ]
    },
    {
      "cell_type": "code",
      "source": [
        "from google.colab import drive\n",
        "drive.mount('/content/drive')"
      ],
      "metadata": {
        "colab": {
          "base_uri": "https://localhost:8080/"
        },
        "id": "7RLedlmDMfE1",
        "outputId": "845cfb0b-1e71-42a8-fa7c-a72f7d625178"
      },
      "execution_count": 7,
      "outputs": [
        {
          "output_type": "stream",
          "name": "stdout",
          "text": [
            "Drive already mounted at /content/drive; to attempt to forcibly remount, call drive.mount(\"/content/drive\", force_remount=True).\n"
          ]
        }
      ]
    },
    {
      "cell_type": "code",
      "source": [
        "# location of the pdf file/files. \n",
        "reader = PdfReader('/content/drive/MyDrive/Zotero/Direito Penal/Fernández Vanegas&Fernández Vanegas_2021_Repensando el principio de legalidad penal.pdf')"
      ],
      "metadata": {
        "id": "NalD3XkQWrJR"
      },
      "execution_count": 31,
      "outputs": []
    },
    {
      "cell_type": "code",
      "source": [
        "reader"
      ],
      "metadata": {
        "colab": {
          "base_uri": "https://localhost:8080/"
        },
        "id": "SwbEBhd0ZUfX",
        "outputId": "6ea9e0e8-5e96-4eb1-880e-ea15002b5018"
      },
      "execution_count": 32,
      "outputs": [
        {
          "output_type": "execute_result",
          "data": {
            "text/plain": [
              "<PyPDF2._reader.PdfReader at 0x7f7329ae1f40>"
            ]
          },
          "metadata": {},
          "execution_count": 32
        }
      ]
    },
    {
      "cell_type": "code",
      "source": [
        "# read data from the file and put them into a variable called raw_text\n",
        "raw_text = ''\n",
        "for i, page in enumerate(reader.pages):\n",
        "    text = page.extract_text()\n",
        "    if text:\n",
        "        raw_text += text"
      ],
      "metadata": {
        "id": "2VXlucKiW7bX"
      },
      "execution_count": 33,
      "outputs": []
    },
    {
      "cell_type": "markdown",
      "source": [
        "# raw_text"
      ],
      "metadata": {
        "id": "447tPdEFP1cz"
      }
    },
    {
      "cell_type": "code",
      "source": [
        "raw_text[:100]"
      ],
      "metadata": {
        "colab": {
          "base_uri": "https://localhost:8080/",
          "height": 35
        },
        "id": "CQkqUBlzW-Xv",
        "outputId": "add226ca-f111-4b96-9334-748ea27efcb7"
      },
      "execution_count": 34,
      "outputs": [
        {
          "output_type": "execute_result",
          "data": {
            "text/plain": [
              "'RevistadelaFacultad deDerecho, (50), ene-jun, 2021, e20215008\\neISSN 2301-0665/DOI: 10.22187/rfd2021n'"
            ],
            "application/vnd.google.colaboratory.intrinsic+json": {
              "type": "string"
            }
          },
          "metadata": {},
          "execution_count": 34
        }
      ]
    },
    {
      "cell_type": "code",
      "source": [
        "# We need to split the text that we read into smaller chunks so that during information retreival we don't hit the token size limits. \n",
        "\n",
        "text_splitter = CharacterTextSplitter(        \n",
        "    separator = \"\\n\",\n",
        "    chunk_size = 1000,\n",
        "    chunk_overlap  = 200,\n",
        "    length_function = len,\n",
        ")\n",
        "texts = text_splitter.split_text(raw_text)"
      ],
      "metadata": {
        "id": "VdXzkpf9XAfP"
      },
      "execution_count": 35,
      "outputs": []
    },
    {
      "cell_type": "code",
      "source": [
        "len(texts)"
      ],
      "metadata": {
        "colab": {
          "base_uri": "https://localhost:8080/"
        },
        "id": "ozkNTiNuZ0TX",
        "outputId": "61fa7f75-58ab-4586-8af1-4315b3792fc3"
      },
      "execution_count": 36,
      "outputs": [
        {
          "output_type": "execute_result",
          "data": {
            "text/plain": [
              "93"
            ]
          },
          "metadata": {},
          "execution_count": 36
        }
      ]
    },
    {
      "cell_type": "code",
      "source": [
        "texts[0]"
      ],
      "metadata": {
        "colab": {
          "base_uri": "https://localhost:8080/",
          "height": 122
        },
        "id": "1SqdR3wFZ3Ih",
        "outputId": "1afd0e70-ce1f-4f1c-cde0-0dff95be44bf"
      },
      "execution_count": 37,
      "outputs": [
        {
          "output_type": "execute_result",
          "data": {
            "text/plain": [
              "'RevistadelaFacultad deDerecho, (50), ene-jun, 2021, e20215008\\neISSN 2301-0665/DOI: 10.22187/rfd2021n50a8\\nCreativeCommonsReconocimiento4.0Internacional LicenseAtribución CCBY\\n1de33Resumen: La sociedad postindustrial generó la creación de nuevos riesgos que convi-\\nven en nuestras actividades cotidianas y que pueden tener consecuencias fatales en nues-\\ntra existencia. Entre las consecuencias producto de esta sociedad podemos observar la\\ninevitable expansión del derecho penal, la creación desmedida de tipos penales de peligro\\ny la flexibilización de garantías procesales. Estas circunstancias hacen tambalear, entre\\notros, el principio de legalidad, que históricamente ha sido concebido como el cumpli-\\nmiento estricto delos parámetros establecidos en la norma yuna limitación a la discrecio-\\nnalidaddelos operadores dejusticia. Seha utilizado una metodología detipo exploratorio\\nydescriptivo mediante el método histórico, el análisis lógico yel análisis exegético jurídi-'"
            ],
            "application/vnd.google.colaboratory.intrinsic+json": {
              "type": "string"
            }
          },
          "metadata": {},
          "execution_count": 37
        }
      ]
    },
    {
      "cell_type": "code",
      "source": [
        "texts[1]"
      ],
      "metadata": {
        "colab": {
          "base_uri": "https://localhost:8080/",
          "height": 122
        },
        "id": "059PoKYUZ6dJ",
        "outputId": "8d4e0c63-9b6e-4501-b0c2-671fa8acd463"
      },
      "execution_count": 38,
      "outputs": [
        {
          "output_type": "execute_result",
          "data": {
            "text/plain": [
              "'nalidaddelos operadores dejusticia. Seha utilizado una metodología detipo exploratorio\\nydescriptivo mediante el método histórico, el análisis lógico yel análisis exegético jurídi-\\nco, para determinarel modo en que la sociedadpostindustrial ha tenido una influencia di-\\nrecta en la flexibilización de esta garantía, a tal punto que, en la práctica, está siendo\\ncadavezmássacrificadaenprodecriteriosdeeficientísimopenalynoimpunidad.\\nPalabras clave: Sociedad de riesgo, principio de legalidad, postindustrial, derecho\\npenal, garantíasprocesales, justicia.\\nAbstract:The post-industrial societygeneratedthe creation ofnewrisks thatcoexistin\\nour daily activities and that can have fatal consequences in our existence. Among the\\nconsequences resulting from this societywecan observetheinevitableexpansion ofcriminal\\nlaw, the excessive creation of criminal types of danger and the relaxation of procedural\\nProfesor de Derecho Procesal Penal de la Universidad de Guayaquil. ORCID:  0000-0001-5175-5858'"
            ],
            "application/vnd.google.colaboratory.intrinsic+json": {
              "type": "string"
            }
          },
          "metadata": {},
          "execution_count": 38
        }
      ]
    },
    {
      "cell_type": "code",
      "source": [
        "# Download embeddings from OpenAI\n",
        "embeddings = OpenAIEmbeddings()"
      ],
      "metadata": {
        "id": "TcZUsQVyXBPX"
      },
      "execution_count": 39,
      "outputs": []
    },
    {
      "cell_type": "code",
      "source": [
        "docsearch = FAISS.from_texts(texts, embeddings)"
      ],
      "metadata": {
        "id": "9C8py6wQXE5_"
      },
      "execution_count": 40,
      "outputs": []
    },
    {
      "cell_type": "code",
      "source": [
        "docsearch"
      ],
      "metadata": {
        "colab": {
          "base_uri": "https://localhost:8080/"
        },
        "id": "E_t_EpZ_XGz2",
        "outputId": "d1780e09-7282-4f6a-f567-bbe0d634f81c"
      },
      "execution_count": 41,
      "outputs": [
        {
          "output_type": "execute_result",
          "data": {
            "text/plain": [
              "<langchain.vectorstores.faiss.FAISS at 0x7f73294166a0>"
            ]
          },
          "metadata": {},
          "execution_count": 41
        }
      ]
    },
    {
      "cell_type": "code",
      "source": [
        "from langchain.chains.question_answering import load_qa_chain\n",
        "from langchain.llms import OpenAI"
      ],
      "metadata": {
        "id": "wpQ2VnBvXI2f"
      },
      "execution_count": 42,
      "outputs": []
    },
    {
      "cell_type": "code",
      "source": [
        "chain = load_qa_chain(OpenAI(), chain_type=\"stuff\")"
      ],
      "metadata": {
        "id": "_L_Ywm-iXLhm"
      },
      "execution_count": 43,
      "outputs": []
    },
    {
      "cell_type": "code",
      "source": [
        "query = \"Quem é o autor do artigo\"\n",
        "docs = docsearch.similarity_search(query)\n",
        "chain.run(input_documents=docs, question=query)"
      ],
      "metadata": {
        "colab": {
          "base_uri": "https://localhost:8080/",
          "height": 35
        },
        "id": "3mtAth2jXNKO",
        "outputId": "95bbf2cf-0ecd-47b8-94a8-720451e4a8e2"
      },
      "execution_count": 44,
      "outputs": [
        {
          "output_type": "execute_result",
          "data": {
            "text/plain": [
              "' O autor do artigo é Héctor Gabriel Vanegas Fernández.'"
            ],
            "application/vnd.google.colaboratory.intrinsic+json": {
              "type": "string"
            }
          },
          "metadata": {},
          "execution_count": 44
        }
      ]
    },
    {
      "cell_type": "code",
      "source": [
        "query = \"Crie um resumo do artigo\"\n",
        "docs = docsearch.similarity_search(query)\n",
        "chain.run(input_documents=docs, question=query)"
      ],
      "metadata": {
        "colab": {
          "base_uri": "https://localhost:8080/",
          "height": 105
        },
        "id": "kIg91Z0YXXCB",
        "outputId": "60f2985d-d657-44fc-f1e7-a037f4f38bab"
      },
      "execution_count": 49,
      "outputs": [
        {
          "output_type": "execute_result",
          "data": {
            "text/plain": [
              "' Este artigo explora como a sociedade pós-industrial tem influenciado a flexibilização das garantias processuais, na medida em que, na prática, elas estão sendo cada vez mais sacrificadas em favor de critérios de eficiência criminal e não de impunidade. O artigo se concentra na luta contra a obscuridade da lei penal, onde normas muitas vezes abrangem situações abstratas de risco e nem sempre existe uma determinação volitiva de produzir dano ou uma probabilidade específica de direcionar a comissão de um resultado lesivo. O artigo também discute como muitas das condutas relevantes penais decorrentes da sociedade de risco estão sendo remetidas a normas administrativas ou a regulamentos privados.'"
            ],
            "application/vnd.google.colaboratory.intrinsic+json": {
              "type": "string"
            }
          },
          "metadata": {},
          "execution_count": 49
        }
      ]
    },
    {
      "cell_type": "code",
      "source": [
        "query = \"Qual o tema do artigo?\"\n",
        "docs = docsearch.similarity_search(query)\n",
        "chain.run(input_documents=docs, question=query)"
      ],
      "metadata": {
        "colab": {
          "base_uri": "https://localhost:8080/",
          "height": 35
        },
        "id": "RahXBIXjXO7X",
        "outputId": "d209f2a3-d27e-41a4-8e8e-d009d677f2ac"
      },
      "execution_count": 45,
      "outputs": [
        {
          "output_type": "execute_result",
          "data": {
            "text/plain": [
              "' O tema do artigo é o princípio da legalidade penal na sociedade de risco.'"
            ],
            "application/vnd.google.colaboratory.intrinsic+json": {
              "type": "string"
            }
          },
          "metadata": {},
          "execution_count": 45
        }
      ]
    },
    {
      "cell_type": "code",
      "source": [
        "query = \"Quais as teses abordadas?\"\n",
        "docs = docsearch.similarity_search(query)\n",
        "chain.run(input_documents=docs, question=query)"
      ],
      "metadata": {
        "colab": {
          "base_uri": "https://localhost:8080/",
          "height": 53
        },
        "id": "EzNcvjRJXSZ4",
        "outputId": "8032aabb-7028-4732-d790-27392c295270"
      },
      "execution_count": 47,
      "outputs": [
        {
          "output_type": "execute_result",
          "data": {
            "text/plain": [
              "' As teses abordadas são relacionadas à erosão do princípio da legalidade em decorrência da sociedade de risco, a relativização do princípio da legalidade e as possíveis alternativas a ele apresentadas pelo direito penal do futuro.'"
            ],
            "application/vnd.google.colaboratory.intrinsic+json": {
              "type": "string"
            }
          },
          "metadata": {},
          "execution_count": 47
        }
      ]
    },
    {
      "cell_type": "code",
      "source": [
        "query = \"Quais as conclusões a que chega o autor?\"\n",
        "docs = docsearch.similarity_search(query)\n",
        "chain.run(input_documents=docs, question=query)"
      ],
      "metadata": {
        "colab": {
          "base_uri": "https://localhost:8080/",
          "height": 87
        },
        "id": "Nhx-kpvAXUl3",
        "outputId": "b55909b5-a868-4ec9-cd23-b499481a23bf"
      },
      "execution_count": 48,
      "outputs": [
        {
          "output_type": "execute_result",
          "data": {
            "text/plain": [
              "' O autor conclui que a sociedade pós-industrial gerou a criação de novos riscos que coexistem nas nossas atividades diárias e que podem ter consequências fatais na nossa existência. Ele também conclui que a relativização ou má aplicação do princípio de legalidade não é uma evolução, pois na realidade é o contrário. O autor também conclui que a expectativa de justiça está erodindo o princípio de legalidade e, com o objetivo de que esses crimes não fiquem impunes, está sendo imposta uma redução das garantias.'"
            ],
            "application/vnd.google.colaboratory.intrinsic+json": {
              "type": "string"
            }
          },
          "metadata": {},
          "execution_count": 48
        }
      ]
    },
    {
      "cell_type": "code",
      "source": [
        "query = \"como citar esse artigo?\"\n",
        "docs = docsearch.similarity_search(query)\n",
        "chain.run(input_documents=docs, question=query)"
      ],
      "metadata": {
        "colab": {
          "base_uri": "https://localhost:8080/",
          "height": 53
        },
        "id": "D02sIID3XagO",
        "outputId": "7faa9d64-2028-498b-8865-fb0cd0c41c62"
      },
      "execution_count": 50,
      "outputs": [
        {
          "output_type": "execute_result",
          "data": {
            "text/plain": [
              "' Héctor Gabriel Vanegas Fernández. \"Repensando el principio de legalidad penal: sociedad de riesgo y derecho penal\", Revista de la Facultad de Derecho, (50), ene-jun, 2021, e20215008. DOI: 10.22187/rfd2021n50a8.'"
            ],
            "application/vnd.google.colaboratory.intrinsic+json": {
              "type": "string"
            }
          },
          "metadata": {},
          "execution_count": 50
        }
      ]
    },
    {
      "cell_type": "code",
      "source": [
        "query = \"crie palavras chave para o artigo\"\n",
        "docs = docsearch.similarity_search(query)\n",
        "chain.run(input_documents=docs, question=query)"
      ],
      "metadata": {
        "id": "qLynnMo0cj8m",
        "colab": {
          "base_uri": "https://localhost:8080/",
          "height": 35
        },
        "outputId": "394c1fe4-d807-4f2f-c55d-829bb46c9bf9"
      },
      "execution_count": 51,
      "outputs": [
        {
          "output_type": "execute_result",
          "data": {
            "text/plain": [
              "' Sociedade de risco, princípio da legalidade, pós-industrial, direito penal, garantias processuais, justiça, reinterpretação, ampliação, flexibilização, relativização.'"
            ],
            "application/vnd.google.colaboratory.intrinsic+json": {
              "type": "string"
            }
          },
          "metadata": {},
          "execution_count": 51
        }
      ]
    }
  ]
}