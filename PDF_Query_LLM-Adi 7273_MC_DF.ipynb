{
  "nbformat": 4,
  "nbformat_minor": 0,
  "metadata": {
    "colab": {
      "provenance": [],
      "include_colab_link": true
    },
    "kernelspec": {
      "name": "python3",
      "display_name": "Python 3"
    },
    "language_info": {
      "name": "python"
    },
    "gpuClass": "standard"
  },
  "cells": [
    {
      "cell_type": "markdown",
      "metadata": {
        "id": "view-in-github",
        "colab_type": "text"
      },
      "source": [
        "<a href=\"https://colab.research.google.com/github/p31x070/GPT/blob/main/PDF_Query_LLM-Adi%207273_MC_DF.ipynb\" target=\"_parent\"><img src=\"https://colab.research.google.com/assets/colab-badge.svg\" alt=\"Open In Colab\"/></a>"
      ]
    },
    {
      "cell_type": "markdown",
      "source": [
        "https://www.youtube.com/watch?v=TLf90ipMzfE"
      ],
      "metadata": {
        "id": "m4mapJKnK6ob"
      }
    },
    {
      "cell_type": "code",
      "execution_count": null,
      "metadata": {
        "id": "xlorSbccWEDa"
      },
      "outputs": [],
      "source": [
        "!pip install langchain\n",
        "!pip install openai\n",
        "!pip install PyPDF2\n",
        "!pip install faiss-cpu\n",
        "!pip install tiktoken"
      ]
    },
    {
      "cell_type": "code",
      "source": [
        "from PyPDF2 import PdfReader\n",
        "from langchain.embeddings.openai import OpenAIEmbeddings\n",
        "from langchain.text_splitter import CharacterTextSplitter\n",
        "from langchain.vectorstores import ElasticVectorSearch, Pinecone, Weaviate, FAISS"
      ],
      "metadata": {
        "id": "nq0vKGFeW1KD"
      },
      "execution_count": 2,
      "outputs": []
    },
    {
      "cell_type": "code",
      "source": [
        "# Get your API keys from openai, you will need to create an account. \n",
        "# Here is the link to get the keys: https://platform.openai.com/account/billing/overview\n",
        "import os\n",
        "os.environ[\"OPENAI_API_KEY\"] = \"...\""
      ],
      "metadata": {
        "id": "yKaKB_GjWKjL"
      },
      "execution_count": 4,
      "outputs": []
    },
    {
      "cell_type": "code",
      "source": [
        "# connect your Google Drive\n",
        "from google.colab import drive\n",
        "drive.mount('/content/gdrive', force_remount=True)\n",
        "root_dir = \"/content/gdrive/My Drive/\""
      ],
      "metadata": {
        "colab": {
          "base_uri": "https://localhost:8080/"
        },
        "id": "DuSRy_lbWfE3",
        "outputId": "53268e3d-b9bd-462b-e7d7-77e6a6e69a31"
      },
      "execution_count": null,
      "outputs": [
        {
          "output_type": "stream",
          "name": "stdout",
          "text": [
            "Mounted at /content/gdrive\n"
          ]
        }
      ]
    },
    {
      "cell_type": "code",
      "source": [
        "from google.colab import drive\n",
        "drive.mount('/content/drive')"
      ],
      "metadata": {
        "colab": {
          "base_uri": "https://localhost:8080/"
        },
        "id": "7RLedlmDMfE1",
        "outputId": "e996146e-8dce-4e92-bb53-fc770da1f483"
      },
      "execution_count": 5,
      "outputs": [
        {
          "output_type": "stream",
          "name": "stdout",
          "text": [
            "Mounted at /content/drive\n"
          ]
        }
      ]
    },
    {
      "cell_type": "code",
      "source": [
        "# location of the pdf file/files. \n",
        "reader = PdfReader('/content/drive/MyDrive/Zotero/Informativos STF/MEDIDA CAUTELAR NA AÇÃO DIRETA DE INCONSTITUCIONALIDADE 7.273 DISTRITO FEDERAL/Mendes -  PARTIDO SOCIALISTA BRASILEIRO - PSB NACIONAL  R.pdf')"
      ],
      "metadata": {
        "id": "NalD3XkQWrJR"
      },
      "execution_count": 61,
      "outputs": []
    },
    {
      "cell_type": "code",
      "source": [
        "reader"
      ],
      "metadata": {
        "colab": {
          "base_uri": "https://localhost:8080/"
        },
        "id": "SwbEBhd0ZUfX",
        "outputId": "078834cb-d893-464e-b6f6-5b485fc2ebce"
      },
      "execution_count": 45,
      "outputs": [
        {
          "output_type": "execute_result",
          "data": {
            "text/plain": [
              "<PyPDF2._reader.PdfReader at 0x7fd92d3c9250>"
            ]
          },
          "metadata": {},
          "execution_count": 45
        }
      ]
    },
    {
      "cell_type": "code",
      "source": [
        "# read data from the file and put them into a variable called raw_text\n",
        "raw_text = ''\n",
        "for i, page in enumerate(reader.pages):\n",
        "    text = page.extract_text()\n",
        "    if text:\n",
        "        raw_text += text"
      ],
      "metadata": {
        "id": "2VXlucKiW7bX"
      },
      "execution_count": 62,
      "outputs": []
    },
    {
      "cell_type": "markdown",
      "source": [
        "# raw_text"
      ],
      "metadata": {
        "id": "447tPdEFP1cz"
      }
    },
    {
      "cell_type": "code",
      "source": [
        "raw_text[:100]"
      ],
      "metadata": {
        "colab": {
          "base_uri": "https://localhost:8080/",
          "height": 35
        },
        "id": "CQkqUBlzW-Xv",
        "outputId": "f3012a2b-b39d-44a4-e38c-3d55283a88ae"
      },
      "execution_count": 63,
      "outputs": [
        {
          "output_type": "execute_result",
          "data": {
            "text/plain": [
              "'MEDIDA CAUTELAR NA AÇÃO DIRETA DE INCONSTITUCIONALIDADE  \\n7.273 DISTRITO FEDERAL\\nRELATOR :MIN. GILMA'"
            ],
            "application/vnd.google.colaboratory.intrinsic+json": {
              "type": "string"
            }
          },
          "metadata": {},
          "execution_count": 63
        }
      ]
    },
    {
      "cell_type": "code",
      "source": [
        "# We need to split the text that we read into smaller chunks so that during information retreival we don't hit the token size limits. \n",
        "\n",
        "text_splitter = CharacterTextSplitter(        \n",
        "    separator = \"\\n\",\n",
        "    chunk_size = 1000,\n",
        "    chunk_overlap  = 200,\n",
        "    length_function = len,\n",
        ")\n",
        "texts = text_splitter.split_text(raw_text)"
      ],
      "metadata": {
        "id": "VdXzkpf9XAfP"
      },
      "execution_count": 64,
      "outputs": []
    },
    {
      "cell_type": "code",
      "source": [
        "len(texts)"
      ],
      "metadata": {
        "colab": {
          "base_uri": "https://localhost:8080/"
        },
        "id": "ozkNTiNuZ0TX",
        "outputId": "88512ca0-cd2b-42b5-9028-a9ebfbf52240"
      },
      "execution_count": 65,
      "outputs": [
        {
          "output_type": "execute_result",
          "data": {
            "text/plain": [
              "71"
            ]
          },
          "metadata": {},
          "execution_count": 65
        }
      ]
    },
    {
      "cell_type": "code",
      "source": [
        "texts[0]"
      ],
      "metadata": {
        "colab": {
          "base_uri": "https://localhost:8080/",
          "height": 122
        },
        "id": "1SqdR3wFZ3Ih",
        "outputId": "9b795d45-1734-4d51-8f44-2e88dab13051"
      },
      "execution_count": 66,
      "outputs": [
        {
          "output_type": "execute_result",
          "data": {
            "text/plain": [
              "'MEDIDA CAUTELAR NA AÇÃO DIRETA DE INCONSTITUCIONALIDADE  \\n7.273 DISTRITO FEDERAL\\nRELATOR :MIN. GILMAR MENDES\\nREQTE.(S):PARTIDO SOCIALISTA BRASILEIRO -  PSB \\nNACIONAL \\nADV.(A/S):RAFAEL ECHEVERRIA LOPES \\nADV.(A/S):RAFAEL DE ALENCAR ARARIPE CARNEIRO \\nINTDO.(A/S):CONGRESSO NACIONAL \\nPROC.(A/S)(ES):ADVOGADO-GERAL DA UNIÃO \\nINTDO.(A/S):PRESIDENTE DA REPÚBLICA \\nPROC.(A/S)(ES):ADVOGADO-GERAL DA UNIÃO \\nDECISÃO: Trata-se  de  ações  diretas  de  inconstitucionalidade  \\npropostas contra o art. 39 da Lei 12.844/2013, em especial seu § 4º, que  \\npermite a presunção de legalidade do ouro adquirido e a boa-fé da pessoa  \\njurídica adquirente, nos seguintes termos:\\n“ Art. 39. A prova da regularidade da primeira aquisição de  \\nouro produzido sob qualquer regime de aproveitamento será  \\nfeita com base em:\\nI  –  nota  fiscal  emitida  por  cooperativa  ou,  no  caso  de  \\npessoa física, recibo de venda e declaração de origem do ouro  \\nemitido pelo vendedor identificando a área de lavra, o Estado'"
            ],
            "application/vnd.google.colaboratory.intrinsic+json": {
              "type": "string"
            }
          },
          "metadata": {},
          "execution_count": 66
        }
      ]
    },
    {
      "cell_type": "code",
      "source": [
        "texts[1]"
      ],
      "metadata": {
        "colab": {
          "base_uri": "https://localhost:8080/",
          "height": 122
        },
        "id": "059PoKYUZ6dJ",
        "outputId": "4f9e1fe5-25a2-4653-991d-7124daf1a8b8"
      },
      "execution_count": 67,
      "outputs": [
        {
          "output_type": "execute_result",
          "data": {
            "text/plain": [
              "'I  –  nota  fiscal  emitida  por  cooperativa  ou,  no  caso  de  \\npessoa física, recibo de venda e declaração de origem do ouro  \\nemitido pelo vendedor identificando a área de lavra, o Estado  \\nou Distrito Federal e o Município de origem do ouro, o número  \\ndo  processo  administrativo  no  órgão  gestor  de  recursos  \\nminerais e o número do título autorizativo de extração; e\\nII  –  nota  fiscal  de  aquisição  emitida  pela  instituição  \\nautorizada pelo Banco Central do Brasil a realizar a compra do  \\nouro.\\n§ 1º Para os efeitos deste artigo, a instituição legalmente  \\nautorizada  a  realizar  a compra  de  ouro  deverá  cadastrar  os  \\ndados de identificação do vendedor, tais como nome, número  \\nde  inscrição  no  Cadastro  de  Pessoa  Física  do  Ministério  da  \\nFazenda – CPF  ou Cadastro Nacional da Pessoa Jurídica do  \\nMinistério da Fazenda – CNPJ, e o número de registro no órgão  \\nde registro do comércio da sede do vendedor.'"
            ],
            "application/vnd.google.colaboratory.intrinsic+json": {
              "type": "string"
            }
          },
          "metadata": {},
          "execution_count": 67
        }
      ]
    },
    {
      "cell_type": "code",
      "source": [
        "# Download embeddings from OpenAI\n",
        "embeddings = OpenAIEmbeddings()"
      ],
      "metadata": {
        "id": "TcZUsQVyXBPX"
      },
      "execution_count": 68,
      "outputs": []
    },
    {
      "cell_type": "code",
      "source": [
        "docsearch = FAISS.from_texts(texts, embeddings)"
      ],
      "metadata": {
        "id": "9C8py6wQXE5_"
      },
      "execution_count": 69,
      "outputs": []
    },
    {
      "cell_type": "code",
      "source": [
        "docsearch"
      ],
      "metadata": {
        "colab": {
          "base_uri": "https://localhost:8080/"
        },
        "id": "E_t_EpZ_XGz2",
        "outputId": "3c67d251-e0a8-4ab6-a4f3-58b29c0bf8aa"
      },
      "execution_count": 70,
      "outputs": [
        {
          "output_type": "execute_result",
          "data": {
            "text/plain": [
              "<langchain.vectorstores.faiss.FAISS at 0x7fd92d064fd0>"
            ]
          },
          "metadata": {},
          "execution_count": 70
        }
      ]
    },
    {
      "cell_type": "code",
      "source": [
        "from langchain.chains.question_answering import load_qa_chain\n",
        "from langchain.llms import OpenAI"
      ],
      "metadata": {
        "id": "wpQ2VnBvXI2f"
      },
      "execution_count": 71,
      "outputs": []
    },
    {
      "cell_type": "code",
      "source": [
        "chain = load_qa_chain(OpenAI(), chain_type=\"stuff\")"
      ],
      "metadata": {
        "id": "_L_Ywm-iXLhm"
      },
      "execution_count": 72,
      "outputs": []
    },
    {
      "cell_type": "markdown",
      "source": [
        "# Resumo do caso"
      ],
      "metadata": {
        "id": "MsY9bjO15Gme"
      }
    },
    {
      "cell_type": "code",
      "source": [
        "query = \"Faça um resumo do caso\"\n",
        "docs = docsearch.similarity_search(query)\n",
        "chain.run(input_documents=docs, question=query)"
      ],
      "metadata": {
        "colab": {
          "base_uri": "https://localhost:8080/",
          "height": 105
        },
        "id": "3mtAth2jXNKO",
        "outputId": "ee1b8d1e-c358-4dd1-a21d-08ae5183c893"
      },
      "execution_count": 73,
      "outputs": [
        {
          "output_type": "execute_result",
          "data": {
            "text/plain": [
              "' O Partido Socialista Brasileiro, a Rede Sustentabilidade e o Partido Verde apresentaram uma ação direta de inconstitucionalidade contra o art. 39 da Lei 12.844/2013. O artigo em questão permite a presunção de legalidade do ouro adquirido e a boa-fé da pessoa jurídica adquirente. O juiz decidiu que os requisitos para a concessão da medida cautelar estavam presentes, justificando o deferimento da medida cautelar. Ele também considerou que as alterações promovidas pela Lei de 2013 permitiram a expansão do comércio ilegal, fortalecendo as atividades de garimpo ilegal, desmatamento, contaminação de rios e violência nas regiões de garimpo, atingindo os povos indígenas das áreas afetadas.'"
            ],
            "application/vnd.google.colaboratory.intrinsic+json": {
              "type": "string"
            }
          },
          "metadata": {},
          "execution_count": 73
        }
      ]
    },
    {
      "cell_type": "markdown",
      "source": [
        "# Norma impugnada"
      ],
      "metadata": {
        "id": "rxDzqjmC5Q-B"
      }
    },
    {
      "cell_type": "code",
      "source": [
        "query = \"qual a norma impugnada. transcreva o texto exato do dispositivo\"\n",
        "docs = docsearch.similarity_search(query)\n",
        "chain.run(input_documents=docs, question=query)"
      ],
      "metadata": {
        "colab": {
          "base_uri": "https://localhost:8080/",
          "height": 35
        },
        "id": "kIg91Z0YXXCB",
        "outputId": "7094f617-e756-4305-dd90-d82925d9234c"
      },
      "execution_count": 74,
      "outputs": [
        {
          "output_type": "execute_result",
          "data": {
            "text/plain": [
              "' O dispositivo impugnado é o art. 39 da Lei 12.844/2013.'"
            ],
            "application/vnd.google.colaboratory.intrinsic+json": {
              "type": "string"
            }
          },
          "metadata": {},
          "execution_count": 74
        }
      ]
    },
    {
      "cell_type": "markdown",
      "source": [
        "# Presumem-se a legalidade..."
      ],
      "metadata": {
        "id": "P9SAfgh75dmU"
      }
    },
    {
      "cell_type": "code",
      "source": [
        "query = \"transcreva o §4 do art. 39 da Lei 12.844/2013.\"\n",
        "docs = docsearch.similarity_search(query)\n",
        "chain.run(input_documents=docs, question=query)"
      ],
      "metadata": {
        "colab": {
          "base_uri": "https://localhost:8080/",
          "height": 53
        },
        "id": "RahXBIXjXO7X",
        "outputId": "bc8ca00d-0111-4d50-f564-90ca7ae141ee"
      },
      "execution_count": 79,
      "outputs": [
        {
          "output_type": "execute_result",
          "data": {
            "text/plain": [
              "' § 4º Presumem-se a legalidade do ouro adquirido e a boa-fé da pessoa jurídica adquirente quando as informações mencionadas neste artigo, prestadas pelo vendedor, estiverem devidamente arquivadas na instituição legalmente autorizada a realizar a compra de ouro.'"
            ],
            "application/vnd.google.colaboratory.intrinsic+json": {
              "type": "string"
            }
          },
          "metadata": {},
          "execution_count": 79
        }
      ]
    },
    {
      "cell_type": "markdown",
      "source": [
        "# Sumário"
      ],
      "metadata": {
        "id": "wGIZ1uhS5kks"
      }
    },
    {
      "cell_type": "code",
      "source": [
        "query = \"Escreva uma notícia de Jornal baseada neste voto do Ministro Gilmar Mendes\"\n",
        "docs = docsearch.similarity_search(query)\n",
        "chain.run(input_documents=docs, question=query)"
      ],
      "metadata": {
        "colab": {
          "base_uri": "https://localhost:8080/",
          "height": 87
        },
        "id": "EzNcvjRJXSZ4",
        "outputId": "fba864c7-4c06-42ae-efd6-4e9589af2e1e"
      },
      "execution_count": 80,
      "outputs": [
        {
          "output_type": "execute_result",
          "data": {
            "text/plain": [
              "' O Ministro Gilmar Mendes votou em favor da adoção de um marco normativo para a fiscalização do comércio de ouro, visando a verificação da origem legal daquele adquirido por DTVMs. Além disso, o Ministro votou a favor de medidas legislativas, regulatórias e administrativas que inviabilizem a aquisição de ouro extraído de áreas de proteção ambiental e de Terras Indígenas. O Ministro também votou a favor de que a medida cautelar seja julgada no Plenário Virtual, em cumprimento ao disposto no artigo 21, V do RI/STF.'"
            ],
            "application/vnd.google.colaboratory.intrinsic+json": {
              "type": "string"
            }
          },
          "metadata": {},
          "execution_count": 80
        }
      ]
    },
    {
      "cell_type": "markdown",
      "source": [
        "# O artigo 21, V do RI/STF prevê o referendo"
      ],
      "metadata": {
        "id": "dxIj4bGc5uME"
      }
    },
    {
      "cell_type": "code",
      "source": [
        "query = \"o que prevê o art 21, V do RI/STF\"\n",
        "docs = docsearch.similarity_search(query)\n",
        "chain.run(input_documents=docs, question=query)"
      ],
      "metadata": {
        "colab": {
          "base_uri": "https://localhost:8080/",
          "height": 35
        },
        "id": "Nhx-kpvAXUl3",
        "outputId": "72120c86-ff2e-42d0-d145-b6ca5e2bdaad"
      },
      "execution_count": 82,
      "outputs": [
        {
          "output_type": "execute_result",
          "data": {
            "text/plain": [
              "' O artigo 21, V do RI/STF prevê o referendo desta medida cautelar para julgamento no Plenário Virtual.'"
            ],
            "application/vnd.google.colaboratory.intrinsic+json": {
              "type": "string"
            }
          },
          "metadata": {},
          "execution_count": 82
        }
      ]
    },
    {
      "cell_type": "code",
      "source": [
        "query = \"como citar esse esta decisão?\"\n",
        "docs = docsearch.similarity_search(query)\n",
        "chain.run(input_documents=docs, question=query)"
      ],
      "metadata": {
        "colab": {
          "base_uri": "https://localhost:8080/",
          "height": 35
        },
        "id": "D02sIID3XagO",
        "outputId": "cd061a85-ac35-4dd0-b17b-669e2beb64fc"
      },
      "execution_count": 84,
      "outputs": [
        {
          "output_type": "execute_result",
          "data": {
            "text/plain": [
              "' Esta decisão pode ser citada como Adi 7273 MC / DF.'"
            ],
            "application/vnd.google.colaboratory.intrinsic+json": {
              "type": "string"
            }
          },
          "metadata": {},
          "execution_count": 84
        }
      ]
    },
    {
      "cell_type": "markdown",
      "source": [
        "# palavras chave"
      ],
      "metadata": {
        "id": "iZoDwhf05209"
      }
    },
    {
      "cell_type": "code",
      "source": [
        "query = \"crie palavras chave para o artigo. Apresente o resultado em tópicos\"\n",
        "docs = docsearch.similarity_search(query)\n",
        "chain.run(input_documents=docs, question=query)"
      ],
      "metadata": {
        "id": "qLynnMo0cj8m",
        "colab": {
          "base_uri": "https://localhost:8080/",
          "height": 53
        },
        "outputId": "6dc4c4ca-239e-4c3d-cf1b-740db674b36d"
      },
      "execution_count": 87,
      "outputs": [
        {
          "output_type": "execute_result",
          "data": {
            "text/plain": [
              "' \\n- Lei 9.868/1999 \\n- Câmara dos Deputados \\n- Presidente da República \\n- Autoridade Geral da União \\n- Subchefia para Assuntos Jurídicos \\n- Business Intelligence \\n- Sistema Financeiro \\n- Ouro Ilegal\\n- Tecnologia de Análise de Imagens de Satélite \\n- Mandamentos Constitucionais\\n- Medida Cautelar'"
            ],
            "application/vnd.google.colaboratory.intrinsic+json": {
              "type": "string"
            }
          },
          "metadata": {},
          "execution_count": 87
        }
      ]
    },
    {
      "cell_type": "markdown",
      "source": [
        " \n",
        "- Lei 9.868/1999 \n",
        "- Câmara dos Deputados \n",
        "- Presidente da República \n",
        "- Autoridade Geral da União \n",
        "- Subchefia para Assuntos Jurídicos \n",
        "- Business Intelligence \n",
        "- Sistema Financeiro \n",
        "- Ouro Ilegal\n",
        "- Tecnologia de Análise de Imagens de Satélite \n",
        "- Mandamentos Constitucionais\n",
        "- Medida Cautelar"
      ],
      "metadata": {
        "id": "AiLAeMAT556k"
      }
    },
    {
      "cell_type": "markdown",
      "source": [
        "# Citação - Ouro ilegal"
      ],
      "metadata": {
        "id": "izLWpYxV5-Mu"
      }
    },
    {
      "cell_type": "code",
      "source": [
        "query = \"extraia uma citação do texto que esteja relacionada as palavras chave ouro ilegal. Indique a página\"\n",
        "docs = docsearch.similarity_search(query)\n",
        "chain.run(input_documents=docs, question=query)"
      ],
      "metadata": {
        "colab": {
          "base_uri": "https://localhost:8080/",
          "height": 87
        },
        "outputId": "8d508175-14f0-410c-be5f-832d824e584b",
        "id": "cwD-Zvsv06zC"
      },
      "execution_count": 89,
      "outputs": [
        {
          "output_type": "execute_result",
          "data": {
            "text/plain": [
              "' \"Sobre a fragilidade provocada na cadeia de controle e rastreabilidade da produção e comércio de ouro oriundo de regiões auríferas gerada com a presunção legal de boa-fé do § 4º do artigo 39 da Lei nº 12.844/2013, o COAF, em discussões da ENCCLA, Estratégia Nacional de Combate à Corrupção e à Lavagem de Dinheiro, a principal rede de articulação institucional brasileira para o arranjo, discussões, formulação e concretização de políticas públicas e soluções de enfrentamento à corrupção e à lavagem de dinheiro, posicionou-se no sentido (página 16).'"
            ],
            "application/vnd.google.colaboratory.intrinsic+json": {
              "type": "string"
            }
          },
          "metadata": {},
          "execution_count": 89
        }
      ]
    },
    {
      "cell_type": "markdown",
      "source": [
        "# fragilidade do arcabouço normativo"
      ],
      "metadata": {
        "id": "BBWNMXly6J-L"
      }
    },
    {
      "cell_type": "code",
      "source": [
        "query = \"o que o texto trata sobre: Estratégia Nacional de Combate à Corrupção e à Lavagem de Dinheiro\"\n",
        "docs = docsearch.similarity_search(query)\n",
        "chain.run(input_documents=docs, question=query)"
      ],
      "metadata": {
        "colab": {
          "base_uri": "https://localhost:8080/",
          "height": 70
        },
        "outputId": "cdefffb8-e9e5-4821-a18a-ef514e3f0fd3",
        "id": "gDB9znny2Iy7"
      },
      "execution_count": 91,
      "outputs": [
        {
          "output_type": "execute_result",
          "data": {
            "text/plain": [
              "' O texto trata sobre a fragilidade do arcabouço normativo da cadeia produtiva do ouro que estabeleceu uma condição desafiadora para os controles de prevenção à lavagem de dinheiro do Estado. Além disso, menciona que o COAF, a Estratégia Nacional de Combate à Corrupção e à Lavagem de Dinheiro, posicionou-se no sentido de que a possibilidade de controle da origem do metal é muito limitada.'"
            ],
            "application/vnd.google.colaboratory.intrinsic+json": {
              "type": "string"
            }
          },
          "metadata": {},
          "execution_count": 91
        }
      ]
    },
    {
      "cell_type": "code",
      "source": [
        "query = \"relacione os fatos elencados como argumentos para a decisão\"\n",
        "docs = docsearch.similarity_search(query)\n",
        "chain.run(input_documents=docs, question=query)"
      ],
      "metadata": {
        "colab": {
          "base_uri": "https://localhost:8080/",
          "height": 53
        },
        "outputId": "63fb218d-fcba-4e95-ee85-100b72e1c9f3",
        "id": "d3qlX0CQ2vUc"
      },
      "execution_count": 92,
      "outputs": [
        {
          "output_type": "execute_result",
          "data": {
            "text/plain": [
              "' A decisão foi baseada na verossimilhança do direito, na relevância da matéria em debate, na discricionariedade legislativa, na inépcia da inicial, na opção legislativa, no espaço de discricionariedade legislativa e nos danos causados pelo garimpo ilegal.'"
            ],
            "application/vnd.google.colaboratory.intrinsic+json": {
              "type": "string"
            }
          },
          "metadata": {},
          "execution_count": 92
        }
      ]
    },
    {
      "cell_type": "markdown",
      "source": [
        "# Verossimilhança do direito"
      ],
      "metadata": {
        "id": "XURs167V6TpT"
      }
    },
    {
      "cell_type": "code",
      "source": [
        "query = \"o que fundamenta a verossimilhança do direito nesta decisão?\"\n",
        "docs = docsearch.similarity_search(query)\n",
        "chain.run(input_documents=docs, question=query)"
      ],
      "metadata": {
        "colab": {
          "base_uri": "https://localhost:8080/",
          "height": 53
        },
        "outputId": "fcfc1229-57cc-4978-ecc7-36ec18b5e3d7",
        "id": "yQyIzV-t25p1"
      },
      "execution_count": 93,
      "outputs": [
        {
          "output_type": "execute_result",
          "data": {
            "text/plain": [
              "' O fundamento da verossimilhança do direito nesta decisão é o princípio da proporcionalidade e a jurisprudência do Supremo Tribunal Federal, que declara a inconstitucionalidade de normas que afastam ou enfraquecem o controle prévio de empreendimentos que impactam o meio ambiente.'"
            ],
            "application/vnd.google.colaboratory.intrinsic+json": {
              "type": "string"
            }
          },
          "metadata": {},
          "execution_count": 93
        }
      ]
    },
    {
      "cell_type": "code",
      "source": [
        "query = \"quais normas que afastam ou enfraquecem o controle prévio de empreendimentos que impactam o meio ambiente.\"\n",
        "docs = docsearch.similarity_search(query)\n",
        "chain.run(input_documents=docs, question=query)"
      ],
      "metadata": {
        "colab": {
          "base_uri": "https://localhost:8080/",
          "height": 35
        },
        "outputId": "d7a7aeae-fd64-4301-a020-f4695b388404",
        "id": "rvLOhiuf3RYH"
      },
      "execution_count": 95,
      "outputs": [
        {
          "output_type": "execute_result",
          "data": {
            "text/plain": [
              "' Normas que dispensam a exigência de licenciamento para atividades potencialmente poluidoras, como o artigo 10 da Lei 2.713/2013 do Estado do Tocantins.'"
            ],
            "application/vnd.google.colaboratory.intrinsic+json": {
              "type": "string"
            }
          },
          "metadata": {},
          "execution_count": 95
        }
      ]
    },
    {
      "cell_type": "markdown",
      "source": [
        " O fundamento da verossimilhança do direito nesta decisão é o princípio da proporcionalidade e a jurisprudência do Supremo Tribunal Federal, que declara a inconstitucionalidade de normas que afastam ou enfraquecem o controle prévio de empreendimentos que impactam o meio ambiente, de que são exemplo as  Normas que dispensam a exigência de licenciamento para atividades potencialmente poluidoras, como o artigo 10 da Lei 2.713/2013 do Estado do Tocantins.\n",
        " "
      ],
      "metadata": {
        "id": "Q7eF8Ctc6Yw7"
      }
    }
  ]
}