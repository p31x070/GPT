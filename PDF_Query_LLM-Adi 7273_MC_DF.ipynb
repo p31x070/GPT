{
  "nbformat": 4,
  "nbformat_minor": 0,
  "metadata": {
    "colab": {
      "provenance": [],
      "toc_visible": true,
      "include_colab_link": true
    },
    "kernelspec": {
      "name": "python3",
      "display_name": "Python 3"
    },
    "language_info": {
      "name": "python"
    },
    "gpuClass": "standard"
  },
  "cells": [
    {
      "cell_type": "markdown",
      "metadata": {
        "id": "view-in-github",
        "colab_type": "text"
      },
      "source": [
        "<a href=\"https://colab.research.google.com/github/p31x070/GPT/blob/main/PDF_Query_LLM-Adi%207273_MC_DF.ipynb\" target=\"_parent\"><img src=\"https://colab.research.google.com/assets/colab-badge.svg\" alt=\"Open In Colab\"/></a>"
      ]
    },
    {
      "cell_type": "markdown",
      "source": [
        "https://www.youtube.com/watch?v=TLf90ipMzfE"
      ],
      "metadata": {
        "id": "m4mapJKnK6ob"
      }
    },
    {
      "cell_type": "code",
      "execution_count": null,
      "metadata": {
        "id": "xlorSbccWEDa"
      },
      "outputs": [],
      "source": [
        "!pip install langchain\n",
        "!pip install openai\n",
        "!pip install PyPDF2\n",
        "!pip install faiss-cpu\n",
        "!pip install tiktoken"
      ]
    },
    {
      "cell_type": "code",
      "source": [
        "from PyPDF2 import PdfReader\n",
        "from langchain.embeddings.openai import OpenAIEmbeddings\n",
        "from langchain.text_splitter import CharacterTextSplitter\n",
        "from langchain.vectorstores import ElasticVectorSearch, Pinecone, Weaviate, FAISS"
      ],
      "metadata": {
        "id": "nq0vKGFeW1KD"
      },
      "execution_count": null,
      "outputs": []
    },
    {
      "cell_type": "code",
      "source": [
        "# Get your API keys from openai, you will need to create an account. \n",
        "# Here is the link to get the keys: https://platform.openai.com/account/billing/overview\n",
        "import os\n",
        "os.environ[\"OPENAI_API_KEY\"] = \"...\""
      ],
      "metadata": {
        "id": "yKaKB_GjWKjL"
      },
      "execution_count": null,
      "outputs": []
    },
    {
      "cell_type": "code",
      "source": [
        "# connect your Google Drive\n",
        "from google.colab import drive\n",
        "drive.mount('/content/gdrive', force_remount=True)\n",
        "root_dir = \"/content/gdrive/My Drive/\""
      ],
      "metadata": {
        "colab": {
          "base_uri": "https://localhost:8080/"
        },
        "id": "DuSRy_lbWfE3",
        "outputId": "53268e3d-b9bd-462b-e7d7-77e6a6e69a31"
      },
      "execution_count": null,
      "outputs": [
        {
          "output_type": "stream",
          "name": "stdout",
          "text": [
            "Mounted at /content/gdrive\n"
          ]
        }
      ]
    },
    {
      "cell_type": "code",
      "source": [
        "from google.colab import drive\n",
        "drive.mount('/content/drive')"
      ],
      "metadata": {
        "colab": {
          "base_uri": "https://localhost:8080/"
        },
        "id": "7RLedlmDMfE1",
        "outputId": "e996146e-8dce-4e92-bb53-fc770da1f483"
      },
      "execution_count": null,
      "outputs": [
        {
          "output_type": "stream",
          "name": "stdout",
          "text": [
            "Mounted at /content/drive\n"
          ]
        }
      ]
    },
    {
      "cell_type": "code",
      "source": [
        "# location of the pdf file/files. \n",
        "reader = PdfReader('/content/drive/MyDrive/Zotero/Informativos STF/MEDIDA CAUTELAR NA AÇÃO DIRETA DE INCONSTITUCIONALIDADE 7.273 DISTRITO FEDERAL/Mendes -  PARTIDO SOCIALISTA BRASILEIRO - PSB NACIONAL  R.pdf')"
      ],
      "metadata": {
        "id": "NalD3XkQWrJR"
      },
      "execution_count": null,
      "outputs": []
    },
    {
      "cell_type": "code",
      "source": [
        "reader"
      ],
      "metadata": {
        "colab": {
          "base_uri": "https://localhost:8080/"
        },
        "id": "SwbEBhd0ZUfX",
        "outputId": "078834cb-d893-464e-b6f6-5b485fc2ebce"
      },
      "execution_count": null,
      "outputs": [
        {
          "output_type": "execute_result",
          "data": {
            "text/plain": [
              "<PyPDF2._reader.PdfReader at 0x7fd92d3c9250>"
            ]
          },
          "metadata": {},
          "execution_count": 45
        }
      ]
    },
    {
      "cell_type": "code",
      "source": [
        "# read data from the file and put them into a variable called raw_text\n",
        "raw_text = ''\n",
        "for i, page in enumerate(reader.pages):\n",
        "    text = page.extract_text()\n",
        "    if text:\n",
        "        raw_text += text"
      ],
      "metadata": {
        "id": "2VXlucKiW7bX"
      },
      "execution_count": null,
      "outputs": []
    },
    {
      "cell_type": "markdown",
      "source": [
        "# raw_text"
      ],
      "metadata": {
        "id": "447tPdEFP1cz"
      }
    },
    {
      "cell_type": "code",
      "source": [
        "raw_text[:100]"
      ],
      "metadata": {
        "colab": {
          "base_uri": "https://localhost:8080/",
          "height": 35
        },
        "id": "CQkqUBlzW-Xv",
        "outputId": "f3012a2b-b39d-44a4-e38c-3d55283a88ae"
      },
      "execution_count": null,
      "outputs": [
        {
          "output_type": "execute_result",
          "data": {
            "text/plain": [
              "'MEDIDA CAUTELAR NA AÇÃO DIRETA DE INCONSTITUCIONALIDADE  \\n7.273 DISTRITO FEDERAL\\nRELATOR :MIN. GILMA'"
            ],
            "application/vnd.google.colaboratory.intrinsic+json": {
              "type": "string"
            }
          },
          "metadata": {},
          "execution_count": 63
        }
      ]
    },
    {
      "cell_type": "code",
      "source": [
        "# We need to split the text that we read into smaller chunks so that during information retreival we don't hit the token size limits. \n",
        "\n",
        "text_splitter = CharacterTextSplitter(        \n",
        "    separator = \"\\n\",\n",
        "    chunk_size = 1000,\n",
        "    chunk_overlap  = 200,\n",
        "    length_function = len,\n",
        ")\n",
        "texts = text_splitter.split_text(raw_text)"
      ],
      "metadata": {
        "id": "VdXzkpf9XAfP"
      },
      "execution_count": null,
      "outputs": []
    },
    {
      "cell_type": "code",
      "source": [
        "len(texts)"
      ],
      "metadata": {
        "colab": {
          "base_uri": "https://localhost:8080/"
        },
        "id": "ozkNTiNuZ0TX",
        "outputId": "88512ca0-cd2b-42b5-9028-a9ebfbf52240"
      },
      "execution_count": null,
      "outputs": [
        {
          "output_type": "execute_result",
          "data": {
            "text/plain": [
              "71"
            ]
          },
          "metadata": {},
          "execution_count": 65
        }
      ]
    },
    {
      "cell_type": "code",
      "source": [
        "texts[0]"
      ],
      "metadata": {
        "colab": {
          "base_uri": "https://localhost:8080/",
          "height": 122
        },
        "id": "1SqdR3wFZ3Ih",
        "outputId": "9b795d45-1734-4d51-8f44-2e88dab13051"
      },
      "execution_count": null,
      "outputs": [
        {
          "output_type": "execute_result",
          "data": {
            "text/plain": [
              "'MEDIDA CAUTELAR NA AÇÃO DIRETA DE INCONSTITUCIONALIDADE  \\n7.273 DISTRITO FEDERAL\\nRELATOR :MIN. GILMAR MENDES\\nREQTE.(S):PARTIDO SOCIALISTA BRASILEIRO -  PSB \\nNACIONAL \\nADV.(A/S):RAFAEL ECHEVERRIA LOPES \\nADV.(A/S):RAFAEL DE ALENCAR ARARIPE CARNEIRO \\nINTDO.(A/S):CONGRESSO NACIONAL \\nPROC.(A/S)(ES):ADVOGADO-GERAL DA UNIÃO \\nINTDO.(A/S):PRESIDENTE DA REPÚBLICA \\nPROC.(A/S)(ES):ADVOGADO-GERAL DA UNIÃO \\nDECISÃO: Trata-se  de  ações  diretas  de  inconstitucionalidade  \\npropostas contra o art. 39 da Lei 12.844/2013, em especial seu § 4º, que  \\npermite a presunção de legalidade do ouro adquirido e a boa-fé da pessoa  \\njurídica adquirente, nos seguintes termos:\\n“ Art. 39. A prova da regularidade da primeira aquisição de  \\nouro produzido sob qualquer regime de aproveitamento será  \\nfeita com base em:\\nI  –  nota  fiscal  emitida  por  cooperativa  ou,  no  caso  de  \\npessoa física, recibo de venda e declaração de origem do ouro  \\nemitido pelo vendedor identificando a área de lavra, o Estado'"
            ],
            "application/vnd.google.colaboratory.intrinsic+json": {
              "type": "string"
            }
          },
          "metadata": {},
          "execution_count": 66
        }
      ]
    },
    {
      "cell_type": "code",
      "source": [
        "texts[1]"
      ],
      "metadata": {
        "colab": {
          "base_uri": "https://localhost:8080/",
          "height": 122
        },
        "id": "059PoKYUZ6dJ",
        "outputId": "4f9e1fe5-25a2-4653-991d-7124daf1a8b8"
      },
      "execution_count": null,
      "outputs": [
        {
          "output_type": "execute_result",
          "data": {
            "text/plain": [
              "'I  –  nota  fiscal  emitida  por  cooperativa  ou,  no  caso  de  \\npessoa física, recibo de venda e declaração de origem do ouro  \\nemitido pelo vendedor identificando a área de lavra, o Estado  \\nou Distrito Federal e o Município de origem do ouro, o número  \\ndo  processo  administrativo  no  órgão  gestor  de  recursos  \\nminerais e o número do título autorizativo de extração; e\\nII  –  nota  fiscal  de  aquisição  emitida  pela  instituição  \\nautorizada pelo Banco Central do Brasil a realizar a compra do  \\nouro.\\n§ 1º Para os efeitos deste artigo, a instituição legalmente  \\nautorizada  a  realizar  a compra  de  ouro  deverá  cadastrar  os  \\ndados de identificação do vendedor, tais como nome, número  \\nde  inscrição  no  Cadastro  de  Pessoa  Física  do  Ministério  da  \\nFazenda – CPF  ou Cadastro Nacional da Pessoa Jurídica do  \\nMinistério da Fazenda – CNPJ, e o número de registro no órgão  \\nde registro do comércio da sede do vendedor.'"
            ],
            "application/vnd.google.colaboratory.intrinsic+json": {
              "type": "string"
            }
          },
          "metadata": {},
          "execution_count": 67
        }
      ]
    },
    {
      "cell_type": "code",
      "source": [
        "# Download embeddings from OpenAI\n",
        "embeddings = OpenAIEmbeddings()"
      ],
      "metadata": {
        "id": "TcZUsQVyXBPX"
      },
      "execution_count": null,
      "outputs": []
    },
    {
      "cell_type": "code",
      "source": [
        "docsearch = FAISS.from_texts(texts, embeddings)"
      ],
      "metadata": {
        "id": "9C8py6wQXE5_"
      },
      "execution_count": null,
      "outputs": []
    },
    {
      "cell_type": "code",
      "source": [
        "docsearch"
      ],
      "metadata": {
        "colab": {
          "base_uri": "https://localhost:8080/"
        },
        "id": "E_t_EpZ_XGz2",
        "outputId": "3c67d251-e0a8-4ab6-a4f3-58b29c0bf8aa"
      },
      "execution_count": null,
      "outputs": [
        {
          "output_type": "execute_result",
          "data": {
            "text/plain": [
              "<langchain.vectorstores.faiss.FAISS at 0x7fd92d064fd0>"
            ]
          },
          "metadata": {},
          "execution_count": 70
        }
      ]
    },
    {
      "cell_type": "code",
      "source": [
        "from langchain.chains.question_answering import load_qa_chain\n",
        "from langchain.llms import OpenAI"
      ],
      "metadata": {
        "id": "wpQ2VnBvXI2f"
      },
      "execution_count": null,
      "outputs": []
    },
    {
      "cell_type": "code",
      "source": [
        "chain = load_qa_chain(OpenAI(), chain_type=\"stuff\")"
      ],
      "metadata": {
        "id": "_L_Ywm-iXLhm"
      },
      "execution_count": null,
      "outputs": []
    },
    {
      "cell_type": "markdown",
      "source": [
        "# Resumo do caso"
      ],
      "metadata": {
        "id": "MsY9bjO15Gme"
      }
    },
    {
      "cell_type": "code",
      "source": [
        "query = \"Faça um resumo do caso\"\n",
        "docs = docsearch.similarity_search(query)\n",
        "chain.run(input_documents=docs, question=query)"
      ],
      "metadata": {
        "colab": {
          "base_uri": "https://localhost:8080/",
          "height": 105
        },
        "id": "3mtAth2jXNKO",
        "outputId": "ee1b8d1e-c358-4dd1-a21d-08ae5183c893"
      },
      "execution_count": null,
      "outputs": [
        {
          "output_type": "execute_result",
          "data": {
            "text/plain": [
              "' O Partido Socialista Brasileiro, a Rede Sustentabilidade e o Partido Verde apresentaram uma ação direta de inconstitucionalidade contra o art. 39 da Lei 12.844/2013. O artigo em questão permite a presunção de legalidade do ouro adquirido e a boa-fé da pessoa jurídica adquirente. O juiz decidiu que os requisitos para a concessão da medida cautelar estavam presentes, justificando o deferimento da medida cautelar. Ele também considerou que as alterações promovidas pela Lei de 2013 permitiram a expansão do comércio ilegal, fortalecendo as atividades de garimpo ilegal, desmatamento, contaminação de rios e violência nas regiões de garimpo, atingindo os povos indígenas das áreas afetadas.'"
            ],
            "application/vnd.google.colaboratory.intrinsic+json": {
              "type": "string"
            }
          },
          "metadata": {},
          "execution_count": 73
        }
      ]
    },
    {
      "cell_type": "markdown",
      "source": [
        "# Norma impugnada"
      ],
      "metadata": {
        "id": "rxDzqjmC5Q-B"
      }
    },
    {
      "cell_type": "code",
      "source": [
        "query = \"qual a norma impugnada. transcreva o texto exato do dispositivo\"\n",
        "docs = docsearch.similarity_search(query)\n",
        "chain.run(input_documents=docs, question=query)"
      ],
      "metadata": {
        "colab": {
          "base_uri": "https://localhost:8080/",
          "height": 35
        },
        "id": "kIg91Z0YXXCB",
        "outputId": "7094f617-e756-4305-dd90-d82925d9234c"
      },
      "execution_count": null,
      "outputs": [
        {
          "output_type": "execute_result",
          "data": {
            "text/plain": [
              "' O dispositivo impugnado é o art. 39 da Lei 12.844/2013.'"
            ],
            "application/vnd.google.colaboratory.intrinsic+json": {
              "type": "string"
            }
          },
          "metadata": {},
          "execution_count": 74
        }
      ]
    },
    {
      "cell_type": "markdown",
      "source": [
        "# Presumem-se a legalidade..."
      ],
      "metadata": {
        "id": "P9SAfgh75dmU"
      }
    },
    {
      "cell_type": "code",
      "source": [
        "query = \"transcreva o §4 do art. 39 da Lei 12.844/2013.\"\n",
        "docs = docsearch.similarity_search(query)\n",
        "chain.run(input_documents=docs, question=query)"
      ],
      "metadata": {
        "colab": {
          "base_uri": "https://localhost:8080/",
          "height": 53
        },
        "id": "RahXBIXjXO7X",
        "outputId": "bc8ca00d-0111-4d50-f564-90ca7ae141ee"
      },
      "execution_count": null,
      "outputs": [
        {
          "output_type": "execute_result",
          "data": {
            "text/plain": [
              "' § 4º Presumem-se a legalidade do ouro adquirido e a boa-fé da pessoa jurídica adquirente quando as informações mencionadas neste artigo, prestadas pelo vendedor, estiverem devidamente arquivadas na instituição legalmente autorizada a realizar a compra de ouro.'"
            ],
            "application/vnd.google.colaboratory.intrinsic+json": {
              "type": "string"
            }
          },
          "metadata": {},
          "execution_count": 79
        }
      ]
    },
    {
      "cell_type": "markdown",
      "source": [
        "# Sumário"
      ],
      "metadata": {
        "id": "wGIZ1uhS5kks"
      }
    },
    {
      "cell_type": "code",
      "source": [
        "query = \"Escreva uma notícia de Jornal baseada neste voto do Ministro Gilmar Mendes\"\n",
        "docs = docsearch.similarity_search(query)\n",
        "chain.run(input_documents=docs, question=query)"
      ],
      "metadata": {
        "colab": {
          "base_uri": "https://localhost:8080/",
          "height": 87
        },
        "id": "EzNcvjRJXSZ4",
        "outputId": "fba864c7-4c06-42ae-efd6-4e9589af2e1e"
      },
      "execution_count": null,
      "outputs": [
        {
          "output_type": "execute_result",
          "data": {
            "text/plain": [
              "' O Ministro Gilmar Mendes votou em favor da adoção de um marco normativo para a fiscalização do comércio de ouro, visando a verificação da origem legal daquele adquirido por DTVMs. Além disso, o Ministro votou a favor de medidas legislativas, regulatórias e administrativas que inviabilizem a aquisição de ouro extraído de áreas de proteção ambiental e de Terras Indígenas. O Ministro também votou a favor de que a medida cautelar seja julgada no Plenário Virtual, em cumprimento ao disposto no artigo 21, V do RI/STF.'"
            ],
            "application/vnd.google.colaboratory.intrinsic+json": {
              "type": "string"
            }
          },
          "metadata": {},
          "execution_count": 80
        }
      ]
    },
    {
      "cell_type": "markdown",
      "source": [
        "# O artigo 21, V do RI/STF prevê o referendo"
      ],
      "metadata": {
        "id": "dxIj4bGc5uME"
      }
    },
    {
      "cell_type": "code",
      "source": [
        "query = \"o que prevê o art 21, V do RI/STF\"\n",
        "docs = docsearch.similarity_search(query)\n",
        "chain.run(input_documents=docs, question=query)"
      ],
      "metadata": {
        "colab": {
          "base_uri": "https://localhost:8080/",
          "height": 35
        },
        "id": "Nhx-kpvAXUl3",
        "outputId": "72120c86-ff2e-42d0-d145-b6ca5e2bdaad"
      },
      "execution_count": null,
      "outputs": [
        {
          "output_type": "execute_result",
          "data": {
            "text/plain": [
              "' O artigo 21, V do RI/STF prevê o referendo desta medida cautelar para julgamento no Plenário Virtual.'"
            ],
            "application/vnd.google.colaboratory.intrinsic+json": {
              "type": "string"
            }
          },
          "metadata": {},
          "execution_count": 82
        }
      ]
    },
    {
      "cell_type": "code",
      "source": [
        "query = \"como citar esse esta decisão?\"\n",
        "docs = docsearch.similarity_search(query)\n",
        "chain.run(input_documents=docs, question=query)"
      ],
      "metadata": {
        "colab": {
          "base_uri": "https://localhost:8080/",
          "height": 35
        },
        "id": "D02sIID3XagO",
        "outputId": "cd061a85-ac35-4dd0-b17b-669e2beb64fc"
      },
      "execution_count": null,
      "outputs": [
        {
          "output_type": "execute_result",
          "data": {
            "text/plain": [
              "' Esta decisão pode ser citada como Adi 7273 MC / DF.'"
            ],
            "application/vnd.google.colaboratory.intrinsic+json": {
              "type": "string"
            }
          },
          "metadata": {},
          "execution_count": 84
        }
      ]
    },
    {
      "cell_type": "markdown",
      "source": [
        "# palavras chave"
      ],
      "metadata": {
        "id": "iZoDwhf05209"
      }
    },
    {
      "cell_type": "code",
      "source": [
        "query = \"crie palavras chave para o artigo. Apresente o resultado em tópicos\"\n",
        "docs = docsearch.similarity_search(query)\n",
        "chain.run(input_documents=docs, question=query)"
      ],
      "metadata": {
        "id": "qLynnMo0cj8m",
        "colab": {
          "base_uri": "https://localhost:8080/",
          "height": 53
        },
        "outputId": "6dc4c4ca-239e-4c3d-cf1b-740db674b36d"
      },
      "execution_count": null,
      "outputs": [
        {
          "output_type": "execute_result",
          "data": {
            "text/plain": [
              "' \\n- Lei 9.868/1999 \\n- Câmara dos Deputados \\n- Presidente da República \\n- Autoridade Geral da União \\n- Subchefia para Assuntos Jurídicos \\n- Business Intelligence \\n- Sistema Financeiro \\n- Ouro Ilegal\\n- Tecnologia de Análise de Imagens de Satélite \\n- Mandamentos Constitucionais\\n- Medida Cautelar'"
            ],
            "application/vnd.google.colaboratory.intrinsic+json": {
              "type": "string"
            }
          },
          "metadata": {},
          "execution_count": 87
        }
      ]
    },
    {
      "cell_type": "markdown",
      "source": [
        " \n",
        "- Lei 9.868/1999 \n",
        "- Câmara dos Deputados \n",
        "- Presidente da República \n",
        "- Autoridade Geral da União \n",
        "- Subchefia para Assuntos Jurídicos \n",
        "- Business Intelligence \n",
        "- Sistema Financeiro \n",
        "- Ouro Ilegal\n",
        "- Tecnologia de Análise de Imagens de Satélite \n",
        "- Mandamentos Constitucionais\n",
        "- Medida Cautelar"
      ],
      "metadata": {
        "id": "AiLAeMAT556k"
      }
    },
    {
      "cell_type": "markdown",
      "source": [
        "# Citação - Ouro ilegal"
      ],
      "metadata": {
        "id": "izLWpYxV5-Mu"
      }
    },
    {
      "cell_type": "code",
      "source": [
        "query = \"extraia uma citação do texto que esteja relacionada as palavras chave ouro ilegal. Indique a página\"\n",
        "docs = docsearch.similarity_search(query)\n",
        "chain.run(input_documents=docs, question=query)"
      ],
      "metadata": {
        "colab": {
          "base_uri": "https://localhost:8080/",
          "height": 87
        },
        "outputId": "8d508175-14f0-410c-be5f-832d824e584b",
        "id": "cwD-Zvsv06zC"
      },
      "execution_count": null,
      "outputs": [
        {
          "output_type": "execute_result",
          "data": {
            "text/plain": [
              "' \"Sobre a fragilidade provocada na cadeia de controle e rastreabilidade da produção e comércio de ouro oriundo de regiões auríferas gerada com a presunção legal de boa-fé do § 4º do artigo 39 da Lei nº 12.844/2013, o COAF, em discussões da ENCCLA, Estratégia Nacional de Combate à Corrupção e à Lavagem de Dinheiro, a principal rede de articulação institucional brasileira para o arranjo, discussões, formulação e concretização de políticas públicas e soluções de enfrentamento à corrupção e à lavagem de dinheiro, posicionou-se no sentido (página 16).'"
            ],
            "application/vnd.google.colaboratory.intrinsic+json": {
              "type": "string"
            }
          },
          "metadata": {},
          "execution_count": 89
        }
      ]
    },
    {
      "cell_type": "markdown",
      "source": [
        "# fragilidade do arcabouço normativo"
      ],
      "metadata": {
        "id": "BBWNMXly6J-L"
      }
    },
    {
      "cell_type": "code",
      "source": [
        "query = \"o que o texto trata sobre: Estratégia Nacional de Combate à Corrupção e à Lavagem de Dinheiro\"\n",
        "docs = docsearch.similarity_search(query)\n",
        "chain.run(input_documents=docs, question=query)"
      ],
      "metadata": {
        "colab": {
          "base_uri": "https://localhost:8080/",
          "height": 70
        },
        "outputId": "cdefffb8-e9e5-4821-a18a-ef514e3f0fd3",
        "id": "gDB9znny2Iy7"
      },
      "execution_count": null,
      "outputs": [
        {
          "output_type": "execute_result",
          "data": {
            "text/plain": [
              "' O texto trata sobre a fragilidade do arcabouço normativo da cadeia produtiva do ouro que estabeleceu uma condição desafiadora para os controles de prevenção à lavagem de dinheiro do Estado. Além disso, menciona que o COAF, a Estratégia Nacional de Combate à Corrupção e à Lavagem de Dinheiro, posicionou-se no sentido de que a possibilidade de controle da origem do metal é muito limitada.'"
            ],
            "application/vnd.google.colaboratory.intrinsic+json": {
              "type": "string"
            }
          },
          "metadata": {},
          "execution_count": 91
        }
      ]
    },
    {
      "cell_type": "code",
      "source": [
        "query = \"relacione os fatos elencados como argumentos para a decisão\"\n",
        "docs = docsearch.similarity_search(query)\n",
        "chain.run(input_documents=docs, question=query)"
      ],
      "metadata": {
        "colab": {
          "base_uri": "https://localhost:8080/",
          "height": 53
        },
        "outputId": "63fb218d-fcba-4e95-ee85-100b72e1c9f3",
        "id": "d3qlX0CQ2vUc"
      },
      "execution_count": null,
      "outputs": [
        {
          "output_type": "execute_result",
          "data": {
            "text/plain": [
              "' A decisão foi baseada na verossimilhança do direito, na relevância da matéria em debate, na discricionariedade legislativa, na inépcia da inicial, na opção legislativa, no espaço de discricionariedade legislativa e nos danos causados pelo garimpo ilegal.'"
            ],
            "application/vnd.google.colaboratory.intrinsic+json": {
              "type": "string"
            }
          },
          "metadata": {},
          "execution_count": 92
        }
      ]
    },
    {
      "cell_type": "markdown",
      "source": [
        "# Verossimilhança do direito"
      ],
      "metadata": {
        "id": "XURs167V6TpT"
      }
    },
    {
      "cell_type": "code",
      "source": [
        "query = \"o que fundamenta a verossimilhança do direito nesta decisão?\"\n",
        "docs = docsearch.similarity_search(query)\n",
        "chain.run(input_documents=docs, question=query)"
      ],
      "metadata": {
        "colab": {
          "base_uri": "https://localhost:8080/",
          "height": 53
        },
        "outputId": "fcfc1229-57cc-4978-ecc7-36ec18b5e3d7",
        "id": "yQyIzV-t25p1"
      },
      "execution_count": null,
      "outputs": [
        {
          "output_type": "execute_result",
          "data": {
            "text/plain": [
              "' O fundamento da verossimilhança do direito nesta decisão é o princípio da proporcionalidade e a jurisprudência do Supremo Tribunal Federal, que declara a inconstitucionalidade de normas que afastam ou enfraquecem o controle prévio de empreendimentos que impactam o meio ambiente.'"
            ],
            "application/vnd.google.colaboratory.intrinsic+json": {
              "type": "string"
            }
          },
          "metadata": {},
          "execution_count": 93
        }
      ]
    },
    {
      "cell_type": "markdown",
      "source": [
        " O fundamento da verossimilhança do direito nesta decisão é o princípio da proporcionalidade e a jurisprudência do Supremo Tribunal Federal, que declara a inconstitucionalidade de normas que afastam ou enfraquecem o controle prévio de empreendimentos que impactam o meio ambiente, de que são exemplo as  Normas que dispensam a exigência de licenciamento para atividades potencialmente poluidoras, como o artigo 10 da Lei 2.713/2013 do Estado do Tocantins.\n",
        " "
      ],
      "metadata": {
        "id": "Q7eF8Ctc6Yw7"
      }
    },
    {
      "cell_type": "markdown",
      "source": [
        "# Princípio da proporcionalidade segundo Canaris.\n",
        "\n",
        " O princípio da proporcionalidade pode funcionar como parâmetro de aferição da constitucionalidade das intervenções nos direitos fundamentais como proibições de intervenção. Proibição de excesso (Ubermassverbot) é o princípio de proporcionalidade que proíbe ações que excedam o necessário para se atingir o objetivo desejado. Proibição de proteção deficiente (Untermassverbot), por outro lado, é o princípio de proporcionalidade que veda ações que não protejam o direito fundamental o suficiente ou que não sejam necessárias para a realização desse direito fundamental."
      ],
      "metadata": {
        "id": "18rnsK42DNbs"
      }
    },
    {
      "cell_type": "code",
      "source": [
        "query = \"O Ministro Gilmar Mendes cita Canaris e enuncia o Princípio da Proporcionalidede, segundo diz essse princípio pode ser enunciado como ...\"\n",
        "docs = docsearch.similarity_search(query)\n",
        "chain.run(input_documents=docs, question=query)"
      ],
      "metadata": {
        "colab": {
          "base_uri": "https://localhost:8080/",
          "height": 35
        },
        "outputId": "206963cc-e7b5-4603-b737-d5cff76c6514",
        "id": "rvLOhiuf3RYH"
      },
      "execution_count": null,
      "outputs": [
        {
          "output_type": "execute_result",
          "data": {
            "text/plain": [
              "' Proibição de excesso (Ubermassverbot) e proibição de proteção deficiente (Untermassverbot).'"
            ],
            "application/vnd.google.colaboratory.intrinsic+json": {
              "type": "string"
            }
          },
          "metadata": {},
          "execution_count": 96
        }
      ]
    },
    {
      "cell_type": "code",
      "source": [
        "query = \"explique Proibição de excesso (Ubermassverbot) e proibição de proteção deficiente (Untermassverbot) \"\n",
        "docs = docsearch.similarity_search(query)\n",
        "chain.run(input_documents=docs, question=query)"
      ],
      "metadata": {
        "colab": {
          "base_uri": "https://localhost:8080/",
          "height": 87
        },
        "outputId": "5fc89145-8764-447f-c448-2674c354a9e1",
        "id": "QDkmKEfMDpP8"
      },
      "execution_count": null,
      "outputs": [
        {
          "output_type": "execute_result",
          "data": {
            "text/plain": [
              "' O princípio da proporcionalidade pode funcionar como parâmetro de aferição da constitucionalidade das intervenções nos direitos fundamentais como proibições de intervenção. Proibição de excesso (Ubermassverbot) é o princípio de proporcionalidade que proíbe ações que excedam o necessário para se atingir o objetivo desejado. Proibição de proteção deficiente (Untermassverbot), por outro lado, é o princípio de proporcionalidade que veda ações que não protejam o direito fundamental o suficiente ou que não sejam necessárias para a realização desse direito fundamental.'"
            ],
            "application/vnd.google.colaboratory.intrinsic+json": {
              "type": "string"
            }
          },
          "metadata": {},
          "execution_count": 97
        }
      ]
    },
    {
      "cell_type": "markdown",
      "source": [
        "# Canotilho ensina que o princípio da proibição à proteção insuficiente, em matéria ambiental, retira certa dose de discricionariedade dos poderes públicos, que passam a estar obrigados a agir."
      ],
      "metadata": {
        "id": "1cS82RsfGHuG"
      }
    },
    {
      "cell_type": "code",
      "source": [
        "query = \"O princípio da proibição à proteção insuficiente, em matéria ambiental, claramente vincula os Poderes constituídos (Executivo, Legislativo e Judiciário). Qual argumento de de Canotilho é trazido para a discussão do tema?\"\n",
        "docs = docsearch.similarity_search(query)\n",
        "chain.run(input_documents=docs, question=query)"
      ],
      "metadata": {
        "colab": {
          "base_uri": "https://localhost:8080/",
          "height": 53
        },
        "outputId": "c476bfac-da3b-4cc7-bb76-ffc675ae53ed",
        "id": "DkiUElCvFS4t"
      },
      "execution_count": null,
      "outputs": [
        {
          "output_type": "execute_result",
          "data": {
            "text/plain": [
              "' Canotilho ensina que o princípio da proibição à proteção insuficiente, em matéria ambiental, retira certa dose de discricionariedade dos poderes públicos, que passam a estar obrigados a agir.'"
            ],
            "application/vnd.google.colaboratory.intrinsic+json": {
              "type": "string"
            }
          },
          "metadata": {},
          "execution_count": 100
        }
      ]
    },
    {
      "cell_type": "markdown",
      "source": [
        " \n",
        "Princípio 17 da Declaração de Estocolmo de 1972: \"Deve-se confiar às instituições nacionais competentes a tarefa de planejar, administrar ou controlar a utilização dos recursos ambientais dos Estados, com o fim de melhorar a qualidade do meio ambiente.\" \n",
        "\n",
        "Princípio 11 da Declaração do Rio/92: \"Os Estados deverão promulgar leis eficazes sobre o meio ambiente.\""
      ],
      "metadata": {
        "id": "RBIJ-SPhH_zT"
      }
    },
    {
      "cell_type": "code",
      "source": [
        "query = \"O dever de proteção também está previsto na Declaração de Estocolmo, de 1972, e na Declaração da Rio-92. Transcreva cada um deles em tópicos separados.\"\n",
        "docs = docsearch.similarity_search(query)\n",
        "chain.run(input_documents=docs, question=query)"
      ],
      "metadata": {
        "colab": {
          "base_uri": "https://localhost:8080/",
          "height": 70
        },
        "outputId": "daa45916-62dc-4544-ff8e-2211979a1b77",
        "id": "0FcvqmmIHtC4"
      },
      "execution_count": null,
      "outputs": [
        {
          "output_type": "execute_result",
          "data": {
            "text/plain": [
              "' \\nPrincípio 17 da Declaração de Estocolmo de 1972: \"Deve-se confiar às instituições nacionais competentes a tarefa de planejar, administrar ou controlar a utilização dos recursos ambientais dos Estados, com o fim de melhorar a qualidade do meio ambiente.\" \\n\\nPrincípio 11 da Declaração do Rio/92: \"Os Estados deverão promulgar leis eficazes sobre o meio ambiente.\"'"
            ],
            "application/vnd.google.colaboratory.intrinsic+json": {
              "type": "string"
            }
          },
          "metadata": {},
          "execution_count": 102
        }
      ]
    },
    {
      "cell_type": "code",
      "source": [
        "query = \"O princípio da proibição é citado pelo Ministro Celso de Mello. Transcreva a citação e indique a ADI correspondente.\"\n",
        "docs = docsearch.similarity_search(query)\n",
        "chain.run(input_documents=docs, question=query)"
      ],
      "metadata": {
        "colab": {
          "base_uri": "https://localhost:8080/",
          "height": 53
        },
        "outputId": "212d80ba-b03e-45c9-b4c3-7ac74a60ed22",
        "id": "pbeS77oOHtKV"
      },
      "execution_count": null,
      "outputs": [
        {
          "output_type": "execute_result",
          "data": {
            "text/plain": [
              "' \"respeite o princípio da proporcionalidade, em cuja estrutura normativa compreende-se, além da proibição do excesso, o postulado que veda, em sua outra dimensão, a insuficiência da proteção estatal\" (ADI 4901, Tribunal Pleno, Rel. Min. Luiz Fux, voto do Min. Celso de Mello, J. 28.2.2018).'"
            ],
            "application/vnd.google.colaboratory.intrinsic+json": {
              "type": "string"
            }
          },
          "metadata": {},
          "execution_count": 103
        }
      ]
    },
    {
      "cell_type": "markdown",
      "source": [
        " \"respeite o princípio da proporcionalidade, em cuja estrutura normativa compreende-se, além da proibição do excesso, o postulado que veda, em sua outra dimensão, a insuficiência da proteção estatal\" (ADI 4901, Tribunal Pleno, Rel. Min. Luiz Fux, voto do Min. Celso de Mello, J. 28.2.2018)."
      ],
      "metadata": {
        "id": "PBFLGb4mImvk"
      }
    },
    {
      "cell_type": "code",
      "source": [
        "query = \"Quais órgãos governamentais trouxeram subídios para a causa? faça uma lista em tópicos separados indicando seus posicionamentos.\"\n",
        "docs = docsearch.similarity_search(query)\n",
        "chain.run(input_documents=docs, question=query)"
      ],
      "metadata": {
        "colab": {
          "base_uri": "https://localhost:8080/",
          "height": 105
        },
        "outputId": "3ed965a8-8016-45d2-e0e0-ce3f8af073a9",
        "id": "t515zJjNLLLf"
      },
      "execution_count": null,
      "outputs": [
        {
          "output_type": "execute_result",
          "data": {
            "text/plain": [
              "' \\n1. Câmara dos Deputados: informou que a matéria encontra-se dentro do espaço de discricionariedade legislativa.\\n2. Presidente da República (AGU): alegou a inépcia da inicial e infereu que a lei atacada resultou de uma opção legislativa que desagradou aos requerentes por motivos políticos.\\n3. Subchefia para Assuntos Jurídicos: consignou que no âmbito infraconstitucional existe um feixe complexo de atos normativos e portarias ministeriais orientados a regulação, regime de aproveitamento, técnicas e políticas públicas voltadas à preservação ambiental e à vida.\\n4. Senado Federal: relata que a Lei 12.844/2013 é resultado da conversão em lei da Medida Provisória 610/2013, que, segundo a exposi'"
            ],
            "application/vnd.google.colaboratory.intrinsic+json": {
              "type": "string"
            }
          },
          "metadata": {},
          "execution_count": 110
        }
      ]
    },
    {
      "cell_type": "markdown",
      "source": [
        " \n",
        "1. Câmara dos Deputados: informou que a matéria encontra-se dentro do espaço de discricionariedade legislativa.\n",
        "2. Presidente da República (AGU): alegou a inépcia da inicial e infereu que a lei atacada resultou de uma opção legislativa que desagradou aos requerentes por motivos políticos.\n",
        "3. Subchefia para Assuntos Jurídicos: consignou que no âmbito infraconstitucional existe um feixe complexo de atos normativos e portarias ministeriais orientados a regulação, regime de aproveitamento, técnicas e políticas públicas voltadas à preservação ambiental e à vida.\n",
        "4. Senado Federal: relata que a Lei 12.844/2013 é resultado da conversão em lei da Medida Provisória 610/2013, que, segundo a exposi"
      ],
      "metadata": {
        "id": "sGCcw9q-M5LE"
      }
    },
    {
      "cell_type": "code",
      "source": [
        "query = \"O que dizem as informações elaboradas pela Secretaria de Acesso à Justiça, do Ministério da Justiça \"\n",
        "docs = docsearch.similarity_search(query)\n",
        "chain.run(input_documents=docs, question=query)"
      ],
      "metadata": {
        "colab": {
          "base_uri": "https://localhost:8080/",
          "height": 70
        },
        "outputId": "f29f3ad9-51e8-4299-ae37-778b1987a604",
        "id": "lXr1UZWyNAuN"
      },
      "execution_count": null,
      "outputs": [
        {
          "output_type": "execute_result",
          "data": {
            "text/plain": [
              "' As informações elaboradas pela Secretaria de Acesso à Justiça do Ministério da Justiça dizem que os meios eleitos pela norma em questão destoam dos fins que as justificaram, e que é imperioso considerar que a presunção de legalidade está em descompasso com a realidade, pois aponta uma presunção de veracidade justamente em um dos elos mais frágeis da cadeia produtiva do ouro.'"
            ],
            "application/vnd.google.colaboratory.intrinsic+json": {
              "type": "string"
            }
          },
          "metadata": {},
          "execution_count": 111
        }
      ]
    },
    {
      "cell_type": "markdown",
      "source": [
        "# Argumentos favoráveis à decisão\n",
        "\n",
        "I. A presunção de legalidade não é compatível com o dever de proteção do meio ambiente, veiculado pelo art. 225 da Constituição Federal (p. 21):\n",
        "\n",
        "II. A presunção impede a criação de mecanismos de rastreabilidade e responsabilização das DTVMs (p. 21):\n",
        "\n",
        "III. A Secretaria Nacional de Segurança Pública tem ações de combate ao garimpo ilegal em Terras Indígenas limitadas ao apoio prestado pela Força Nacional de Segurança Pública (p. 22):\n",
        "\n",
        "IV. O procedimento previsto na legislação impugnada é desprovido de razoabilidade e proporcionalidade, e portanto de lisura constitucional (p. 18)."
      ],
      "metadata": {
        "id": "-5rhalmOOGom"
      }
    },
    {
      "cell_type": "code",
      "source": [
        "query = \"\"\" \n",
        "Exemplo de argumento favorável a decisâo:\n",
        "\n",
        " As informações elaboradas pela Secretaria de Acesso à Justiça do Ministério da Justiça dizem que os meios eleitos pela norma em questão destoam dos fins que as justificaram, e que é imperioso considerar que a presunção de legalidade está em descompasso com a realidade, pois aponta uma presunção de veracidade justamente em um dos elos mais frágeis da cadeia produtiva do ouro.\n",
        " \n",
        " Pergunta:\n",
        "\n",
        " Aponte mais argumentos favoráveis a decisão encontrados no texto indicando a fonte. Divida a resposta em tópicos. Indique a página do documento de onde foram extraídos.\n",
        "\n",
        "  \"\"\"\n",
        "docs = docsearch.similarity_search(query)\n",
        "chain.run(input_documents=docs, question=query)"
      ],
      "metadata": {
        "colab": {
          "base_uri": "https://localhost:8080/",
          "height": 87
        },
        "outputId": "ce28772f-e64d-499c-ed51-beb468d8bc8b",
        "id": "5LN9Osu5NgSO"
      },
      "execution_count": null,
      "outputs": [
        {
          "output_type": "execute_result",
          "data": {
            "text/plain": [
              "'\\nI. Argumento de que a presunção de legalidade não é compatível com o dever de proteção do meio ambiente, veiculado pelo art. 225 da Constituição Federal (p. 21):\\n\\nII. Argumento de que a presunção impede a criação de mecanismos de rastreabilidade e responsabilização das DTVMs (p. 21):\\n\\nIII. Argumento de que a Secretaria Nacional de Segurança Pública tem ações de combate ao garimpo ilegal em Terras Indígenas limitadas ao apoio prestado pela Força Nacional de Segurança Pública (p. 22):\\n\\nIV. Argumento de que o procedimento previsto na legislação impugnada é desprovido de razoabilidade e proporcionalidade, e portanto de lisura constitucional (p. 18).'"
            ],
            "application/vnd.google.colaboratory.intrinsic+json": {
              "type": "string"
            }
          },
          "metadata": {},
          "execution_count": 118
        }
      ]
    },
    {
      "cell_type": "code",
      "source": [
        "query = \"\"\" \n",
        "Pregunta:\n",
        "\n",
        "Quais são as consequencias do garimpo para o meio ambiente e povos indigenas apontadas no texto?\n",
        "\n",
        "Resposta:\n",
        "\n",
        "Apresente uma lista de conseguencias. \n",
        "\n",
        "Formato:\n",
        "\n",
        "(numero) consequencia.\n",
        "\n",
        "  \"\"\"\n",
        "docs = docsearch.similarity_search(query)\n",
        "chain.run(input_documents=docs, question=query)"
      ],
      "metadata": {
        "colab": {
          "base_uri": "https://localhost:8080/",
          "height": 53
        },
        "outputId": "e4103e95-d570-40fc-ce9b-07aeae156e67",
        "id": "mlOpiu6nR6dZ"
      },
      "execution_count": null,
      "outputs": [
        {
          "output_type": "execute_result",
          "data": {
            "text/plain": [
              "' \\n1. Contaminação por mercúrio.\\n2. Assoreamento de corpos hídricos.\\n3. Supressão de vegetação.\\n4. Desmatamento.\\n5. Contaminação de rios.\\n6. Violência nas regiões de garimpo.\\n7. Aumento da violência nos municípios em que o garimpo é ilegal.'"
            ],
            "application/vnd.google.colaboratory.intrinsic+json": {
              "type": "string"
            }
          },
          "metadata": {},
          "execution_count": 123
        }
      ]
    },
    {
      "cell_type": "markdown",
      "source": [
        " \n",
        "1. Contaminação por mercúrio.\n",
        "2. Assoreamento de corpos hídricos.\n",
        "3. Supressão de vegetação.\n",
        "4. Desmatamento.\n",
        "5. Contaminação de rios.\n",
        "6. Violência nas regiões de garimpo.\n",
        "7. Aumento da violência nos municípios em que o garimpo é ilegal."
      ],
      "metadata": {
        "id": "OYe_V-TpTSlO"
      }
    },
    {
      "cell_type": "code",
      "source": [],
      "metadata": {
        "id": "IA48ufu4Nuyu"
      },
      "execution_count": null,
      "outputs": []
    },
    {
      "cell_type": "code",
      "source": [
        "query = \"\"\" \n",
        "Pregunta:\n",
        "\n",
        "como ocorre o esquentamento do ouro?\n",
        "\n",
        "Resposta:\n",
        "\n",
        "Apresente uma lista \n",
        "\n",
        "Formato:\n",
        "\n",
        "(numero) item.\n",
        "\n",
        "  \"\"\"\n",
        "docs = docsearch.similarity_search(query)\n",
        "chain.run(input_documents=docs, question=query)"
      ],
      "metadata": {
        "colab": {
          "base_uri": "https://localhost:8080/",
          "height": 70
        },
        "outputId": "6930a9ef-c987-424b-8851-230efdac7f2e",
        "id": "9YkuROLuTxPn"
      },
      "execution_count": null,
      "outputs": [
        {
          "output_type": "execute_result",
          "data": {
            "text/plain": [
              "'\\n\\n1. O ouro é adquirido por uma instituição legalmente autorizada a realizar a compra; \\n2. É necessário o registro do ouro no Sistema Câmbio do Banco Central; \\n3. É necessário que o transporte do ouro seja acompanhado da documentação que indique a suposta origem da extração; \\n4. As informações quanto à origem do metal inseridas na documentação da operação são, muitas vezes, falsas;\\n5. Não há um rastreamento geoquímico para verificar a origem do ouro.'"
            ],
            "application/vnd.google.colaboratory.intrinsic+json": {
              "type": "string"
            }
          },
          "metadata": {},
          "execution_count": 126
        }
      ]
    },
    {
      "cell_type": "markdown",
      "source": [
        "\n",
        "1. O ouro é adquirido por uma instituição legalmente autorizada a realizar a compra; \n",
        "2. É necessário o registro do ouro no Sistema Câmbio do Banco Central; \n",
        "3. É necessário que o transporte do ouro seja acompanhado da documentação que indique a suposta origem da extração; \n",
        "4. As informações quanto à origem do metal inseridas na documentação da operação são, muitas vezes, falsas;\n",
        "5. Não há um rastreamento geoquímico para verificar a origem do ouro."
      ],
      "metadata": {
        "id": "mNQ5GT_0UZyW"
      }
    },
    {
      "cell_type": "code",
      "source": [],
      "metadata": {
        "id": "k3TN6o4zVq34"
      },
      "execution_count": null,
      "outputs": []
    },
    {
      "cell_type": "markdown",
      "source": [
        "\n",
        "Resposta útil:\n",
        "\n",
        "A Estratégia Nacional de Combate à Corrupção e à Lavagem de Dinheiro (ENCCLA) é uma rede de articulação institucional brasileira para o arranjo, discussões, formulação e concretização de políticas públicas e soluções de enfrentamento à corrupção e à lavagem de dinheiro."
      ],
      "metadata": {
        "id": "whukFFONVafg"
      }
    },
    {
      "cell_type": "code",
      "source": [
        "query = \"\"\" \n",
        "Pregunta:\n",
        "\n",
        "Defina Estratégia Nacional de Combate à Corrupção e à Lavagem de Dinheiro\n",
        "\n",
        "Resposta:\n",
        "\n",
        "definição\n",
        "\n",
        "Formato:\n",
        "\n",
        "dissertativo\n",
        "\n",
        "  \"\"\"\n",
        "docs = docsearch.similarity_search(query)\n",
        "chain.run(input_documents=docs, question=query)"
      ],
      "metadata": {
        "colab": {
          "base_uri": "https://localhost:8080/",
          "height": 53
        },
        "outputId": "6c35fc75-cea6-4b2c-961a-6d3168221e52",
        "id": "mgwaPaRRVwJ9"
      },
      "execution_count": null,
      "outputs": [
        {
          "output_type": "execute_result",
          "data": {
            "text/plain": [
              "'\\n\\nA Estratégia Nacional de Combate à Corrupção e à Lavagem de Dinheiro é um projeto de articulação institucional brasileira para o arranjo, discussões, formulação e concretização de políticas públicas e soluções de enfrentamento à corrupção e à lavagem de dinheiro.'"
            ],
            "application/vnd.google.colaboratory.intrinsic+json": {
              "type": "string"
            }
          },
          "metadata": {},
          "execution_count": 130
        }
      ]
    },
    {
      "cell_type": "code",
      "source": [
        "query = \"\"\" \n",
        "Pregunta:\n",
        "\n",
        "apresente uma lista de três conceitos e suas definições extraídos do texto\n",
        "\n",
        "Resposta:\n",
        "\n",
        "Conceito definição\n",
        "\n",
        "Formato:\n",
        "\n",
        "dissertativo\n",
        "\n",
        "  \"\"\"\n",
        "docs = docsearch.similarity_search(query)\n",
        "chain.run(input_documents=docs, question=query)"
      ],
      "metadata": {
        "colab": {
          "base_uri": "https://localhost:8080/",
          "height": 35
        },
        "outputId": "4665aba0-db97-4da8-f71b-e8fb367f01ac",
        "id": "R9T_OrPtWJp9"
      },
      "execution_count": null,
      "outputs": [
        {
          "output_type": "execute_result",
          "data": {
            "text/plain": [
              "'\\nNão se aplica. Este texto é uma decisão judicial. Não há uma lista de três conceitos e suas definições extraídos do texto.'"
            ],
            "application/vnd.google.colaboratory.intrinsic+json": {
              "type": "string"
            }
          },
          "metadata": {},
          "execution_count": 131
        }
      ]
    },
    {
      "cell_type": "code",
      "source": [
        "query = \"\"\" \n",
        "Pregunta:\n",
        "\n",
        "que subsídios a decisão foram trazidos por órgãos governamentais em relação ao ouro?\n",
        "\n",
        "Resposta:\n",
        "\n",
        "lista\n",
        "\n",
        "observações:\n",
        "\n",
        "incluir consequencias ambientais decorrentes\n",
        "\n",
        "  \"\"\"\n",
        "docs = docsearch.similarity_search(query)\n",
        "chain.run(input_documents=docs, question=query)"
      ],
      "metadata": {
        "colab": {
          "base_uri": "https://localhost:8080/",
          "height": 70
        },
        "outputId": "a09f0303-9b7f-4191-df5b-92d4e99f1c5f",
        "id": "H8mlveKFWpJb"
      },
      "execution_count": null,
      "outputs": [
        {
          "output_type": "execute_result",
          "data": {
            "text/plain": [
              "'\\nOs órgãos governamentais forneceram informações sobre como o ouro pode ser usado como mercadoria, ativo financeiro e instrumento cambial. O BACEN também esclareceu que é necessário registro no Sistema Câmbio do Banco Central para o ouro ativo financeiro. Além disso, o governo federal também informou que a mineração de ouro tem crescido nos últimos anos em áreas proibidas, como Terras Indígenas ou Unidades de Conservação, o que pode levar a danos ao meio ambiente.'"
            ],
            "application/vnd.google.colaboratory.intrinsic+json": {
              "type": "string"
            }
          },
          "metadata": {},
          "execution_count": 133
        }
      ]
    },
    {
      "cell_type": "markdown",
      "source": [
        "\n",
        "Os órgãos governamentais forneceram informações sobre como o ouro pode ser usado como mercadoria, ativo financeiro e instrumento cambial. O BACEN também esclareceu que é necessário registro no Sistema Câmbio do Banco Central para o ouro ativo financeiro. Além disso, o governo federal também informou que a mineração de ouro tem crescido nos últimos anos em áreas proibidas, como Terras Indígenas ou Unidades de Conservação, o que pode levar a danos ao meio ambiente."
      ],
      "metadata": {
        "id": "2B4NKh3fXSSv"
      }
    },
    {
      "cell_type": "markdown",
      "source": [
        "# É verdadeira a afirmação de que a norma em julgamento favoreceu o crescimento do garimpo e este, por sua vez, contribuiu para o agravamento da questão ambiental?\n",
        "\n",
        "\n",
        "Sim, é verdadeira a afirmação de que a norma em julgamento favoreceu o crescimento do garimpo ilegal e contribuiu para o agravamento da questão ambiental. Isso é corroborado pelos estudos técnicos, pelas matérias jornalísticas de conhecimento geral e pelas informações do Ministério do Meio Ambiente, da Secretaria de Acesso à Justiça do Ministério da Justiça e pelo estudo dos autores das ações diretas em análise."
      ],
      "metadata": {
        "id": "kNxccJe9X31u"
      }
    },
    {
      "cell_type": "code",
      "source": [
        "query = \"\"\" \n",
        "Pregunta:\n",
        "\n",
        "É verdadeira a afirmação de que a norma em julgamento favoreceu o crescimento do garimpo e este, por sua vez, contribuiu para o agravamento da questão ambiental?\n",
        "\n",
        "  \"\"\"\n",
        "docs = docsearch.similarity_search(query)\n",
        "chain.run(input_documents=docs, question=query)"
      ],
      "metadata": {
        "colab": {
          "base_uri": "https://localhost:8080/",
          "height": 70
        },
        "outputId": "7c63aca3-e5f2-435d-ff26-096b3ccf8f59",
        "id": "xTVFfW57Xgaa"
      },
      "execution_count": null,
      "outputs": [
        {
          "output_type": "execute_result",
          "data": {
            "text/plain": [
              "'\\nSim, é verdadeira a afirmação de que a norma em julgamento favoreceu o crescimento do garimpo ilegal e contribuiu para o agravamento da questão ambiental. Isso é corroborado pelos estudos técnicos, pelas matérias jornalísticas de conhecimento geral e pelas informações do Ministério do Meio Ambiente, da Secretaria de Acesso à Justiça do Ministério da Justiça e pelo estudo dos autores das ações diretas em análise.'"
            ],
            "application/vnd.google.colaboratory.intrinsic+json": {
              "type": "string"
            }
          },
          "metadata": {},
          "execution_count": 134
        }
      ]
    },
    {
      "cell_type": "markdown",
      "source": [
        "# Verificação de Fatos e Argumentos"
      ],
      "metadata": {
        "id": "rWZknfY2Zj9l"
      }
    },
    {
      "cell_type": "code",
      "source": [
        "query = \"\"\" \n",
        "Pregunta:\n",
        "\n",
        "quais são as alegações trazidas pela Presidência da República em relação ao caso?\n",
        "\n",
        "  \"\"\"\n",
        "docs = docsearch.similarity_search(query)\n",
        "chain.run(input_documents=docs, question=query)"
      ],
      "metadata": {
        "colab": {
          "base_uri": "https://localhost:8080/",
          "height": 53
        },
        "outputId": "c03dd21b-3b04-4521-b221-e16bc9cb3e21",
        "id": "o573RKakYYWq"
      },
      "execution_count": null,
      "outputs": [
        {
          "output_type": "execute_result",
          "data": {
            "text/plain": [
              "' A Presidência da República alega a inépcia da inicial e infere que “a lei atacada resultou de uma opção legislativa que desagradou aos requerentes por motivos políticos, fazendo com que a ação fosse ajuizada com a intenção de criticar e desgastar a imagem da atual gestão, sem qualquer efetiva demonstração de inconstitucionalidade”.'"
            ],
            "application/vnd.google.colaboratory.intrinsic+json": {
              "type": "string"
            }
          },
          "metadata": {},
          "execution_count": 135
        }
      ]
    },
    {
      "cell_type": "code",
      "source": [
        "query = \"\"\" \n",
        "Pregunta:\n",
        "\n",
        "as alegações da Presidência da República são suficientes para rebater todos os argumentos favoráveis à decisão proferida? Por que?\n",
        "  \"\"\"\n",
        "docs = docsearch.similarity_search(query)\n",
        "chain.run(input_documents=docs, question=query)"
      ],
      "metadata": {
        "colab": {
          "base_uri": "https://localhost:8080/",
          "height": 70
        },
        "outputId": "c4d2048c-cc44-4f01-a199-c186a83ac7ea",
        "id": "vb9BxLksYp6x"
      },
      "execution_count": null,
      "outputs": [
        {
          "output_type": "execute_result",
          "data": {
            "text/plain": [
              "' Não, as alegações da Presidência da República não são suficientes para rebater todos os argumentos favoráveis à decisão proferida, pois a decisão foi tomada considerando tanto a verossimilhança do direito quanto o perigo na demora. O texto menciona que a norma impugnada foi inserida no processo legislativo e que a matéria encontra-se dentro do espaço de discricionariedade legislativa. Além disso, os requerentes apontam o risco de danos causados pelo garimpo ilegal, o que também foi considerado na decisão.'"
            ],
            "application/vnd.google.colaboratory.intrinsic+json": {
              "type": "string"
            }
          },
          "metadata": {},
          "execution_count": 139
        }
      ]
    },
    {
      "cell_type": "code",
      "source": [
        "query = \"\"\" \n",
        "Pregunta:\n",
        "\n",
        "Quais são as premissas que embasaram a decisão do Ministro para a concessão da liminar?\n",
        "\n",
        "  \"\"\"\n",
        "docs = docsearch.similarity_search(query)\n",
        "chain.run(input_documents=docs, question=query)"
      ],
      "metadata": {
        "colab": {
          "base_uri": "https://localhost:8080/",
          "height": 53
        },
        "outputId": "6a36a604-a25a-4e01-f9ff-26e9adbe8733",
        "id": "7wJq1RDPYtBU"
      },
      "execution_count": null,
      "outputs": [
        {
          "output_type": "execute_result",
          "data": {
            "text/plain": [
              "'\\n\\nAs premissas que embasaram a decisão do Ministro para a concessão da medida liminar foram a plausibilidade jurídica das alegações autorais (fumus boni iuris) e a possibilidade de prejuízo decorrente do retardamento da decisão postulada (periculum in mora).'"
            ],
            "application/vnd.google.colaboratory.intrinsic+json": {
              "type": "string"
            }
          },
          "metadata": {},
          "execution_count": 141
        }
      ]
    }
  ]
}